{
  "nbformat": 4,
  "nbformat_minor": 0,
  "metadata": {
    "colab": {
      "name": "Untitled18.ipynb",
      "provenance": []
    },
    "kernelspec": {
      "name": "python3",
      "display_name": "Python 3"
    },
    "accelerator": "GPU"
  },
  "cells": [
    {
      "cell_type": "code",
      "metadata": {
        "colab": {
          "base_uri": "https://localhost:8080/"
        },
        "id": "k20q09a889f_",
        "outputId": "27a0a945-334e-4b21-a1e2-5a015c0d75e3"
      },
      "source": [
        "!pip install beautifulsoup4"
      ],
      "execution_count": null,
      "outputs": [
        {
          "output_type": "stream",
          "text": [
            "Requirement already satisfied: beautifulsoup4 in /usr/local/lib/python3.7/dist-packages (4.6.3)\n"
          ],
          "name": "stdout"
        }
      ]
    },
    {
      "cell_type": "code",
      "metadata": {
        "id": "V57PVNJ_H3Qw"
      },
      "source": [
        "qna_dict={}"
      ],
      "execution_count": null,
      "outputs": []
    },
    {
      "cell_type": "markdown",
      "metadata": {
        "id": "-V6N_R1X_PgN"
      },
      "source": [
        "### Extracting infor from Home page FEIT"
      ]
    },
    {
      "cell_type": "code",
      "metadata": {
        "colab": {
          "base_uri": "https://localhost:8080/"
        },
        "id": "sgIyr6Qz9ACO",
        "outputId": "0f18e3f1-ae87-4410-f9e9-ae3e90dea230"
      },
      "source": [
        "import urllib.request\n",
        "from bs4 import BeautifulSoup\n",
        " \n",
        "# Fetch the html file\n",
        "response = urllib.request.urlopen('https://www.eit.ovgu.de/eit/en/Examination+Office-p-50.html')\n",
        "html_doc = response.read()\n",
        " \n",
        "# Parse the html file\n",
        "soup = BeautifulSoup(html_doc, features='html.parser')\n",
        " \n",
        " \n",
        "#get header\n",
        " \n",
        "import re\n",
        "def get_title():\n",
        "  title = soup.find('title')\n",
        "  #print(title) # Prints the tag\n",
        "  #print(title.string) # Prints the ta\n",
        "  title=title.string\n",
        "  title_string = re.sub(r'\\s\\s+', ' ', title.string)\n",
        "  title_string = title_string.strip(' \\n\\t')\n",
        "  return title_string\n",
        " \n",
        " \n",
        "print(get_title())"
      ],
      "execution_count": null,
      "outputs": [
        {
          "output_type": "stream",
          "text": [
            "EIT - Examination Office\n"
          ],
          "name": "stdout"
        }
      ]
    },
    {
      "cell_type": "code",
      "metadata": {
        "id": "t6HrBQInJXHz"
      },
      "source": [
        "title_string=get_title()"
      ],
      "execution_count": null,
      "outputs": []
    },
    {
      "cell_type": "code",
      "metadata": {
        "colab": {
          "base_uri": "https://localhost:8080/"
        },
        "id": "SGHpd1kxH7y1",
        "outputId": "879459d9-0882-438b-c364-353b2b051e90"
      },
      "source": [
        "qna_dict['title']=title_string\n",
        "qna_dict['about']=title_string\n",
        "qna_dict"
      ],
      "execution_count": null,
      "outputs": [
        {
          "output_type": "execute_result",
          "data": {
            "text/plain": [
              "{'about': 'EIT - Examination Office', 'title': 'EIT - Examination Office'}"
            ]
          },
          "metadata": {
            "tags": []
          },
          "execution_count": 293
        }
      ]
    },
    {
      "cell_type": "code",
      "metadata": {
        "id": "owQR23I69aAP"
      },
      "source": [
        "# Format the parsed html file\n",
        "# strhtm = soup.prettify()\n"
      ],
      "execution_count": null,
      "outputs": []
    },
    {
      "cell_type": "code",
      "metadata": {
        "id": "aPqegY0T9jTR"
      },
      "source": [
        "# def get_all_text(html_url):  \n",
        "#   response = urllib.request.urlopen('https://www.eit.ovgu.de/eit/en/Examination+Office-p-50.html')\n",
        "#   html_doc = response.read()\n",
        "#   soup = BeautifulSoup(html_doc, features=\"html.parser\")\n",
        "#   #kill all script and style elements\n",
        "#   for script in soup([\"script\", \"style\"]):\n",
        "#     script.extract()    # rip it out\n",
        "\n",
        "#   # get text\n",
        "#   text = soup.get_text()\n",
        "\n",
        "#   # break into lines and remove leading and trailing space on each\n",
        "#   lines = (line.strip() for line in text.splitlines())\n",
        "#   # break multi-headlines into a line each\n",
        "#   chunks = (phrase.strip() for line in lines for phrase in line.split(\"  \"))\n",
        "#   # drop blank lines\n",
        "#   text = '\\n'.join(chunk for chunk in chunks if chunk)\n",
        "#   return text\n",
        "\n",
        "# print(get_all_text(html_doc))"
      ],
      "execution_count": null,
      "outputs": []
    },
    {
      "cell_type": "code",
      "metadata": {
        "colab": {
          "base_uri": "https://localhost:8080/"
        },
        "id": "u_AbKDw299Dw",
        "outputId": "7581a45b-10d7-409c-dc67-5ae47638f1d4"
      },
      "source": [
        "def get_department():\n",
        "  rows = soup.find_all('h1')\n",
        "  department=''\n",
        "  for row in rows:          # Print all occurrences\n",
        "      print(row.get_text())\n",
        "      department+=row.get_text()\n",
        "  department_title = re.sub(r'\\s\\s+', ' ', department)\n",
        "  department_title = department_title.strip(' \\n\\t')\n",
        "  return department_title\n",
        "  \n",
        "department_title=get_department()"
      ],
      "execution_count": null,
      "outputs": [
        {
          "output_type": "stream",
          "text": [
            "\n",
            "\n",
            "FACULTY OF ELECTRICAL ENGINEERING\n",
            "AND INFORMATION TECHNOLOGY\n",
            "\n"
          ],
          "name": "stdout"
        }
      ]
    },
    {
      "cell_type": "code",
      "metadata": {
        "id": "89Gie4frLkv6"
      },
      "source": [
        "qna_dict['department']=department_title"
      ],
      "execution_count": null,
      "outputs": []
    },
    {
      "cell_type": "code",
      "metadata": {
        "id": "3VCKCjwB-gxc"
      },
      "source": [
        "#data_base ={}"
      ],
      "execution_count": null,
      "outputs": []
    },
    {
      "cell_type": "code",
      "metadata": {
        "id": "3oeYgzmQ-jay"
      },
      "source": [
        "#data_base['department']= department_title"
      ],
      "execution_count": null,
      "outputs": []
    },
    {
      "cell_type": "code",
      "metadata": {
        "id": "fppE-58jNLye"
      },
      "source": [
        "div_page_highlight = soup.find(\"div\", {\"id\": \"maincontent\"})\n",
        "keys=[]"
      ],
      "execution_count": null,
      "outputs": []
    },
    {
      "cell_type": "code",
      "metadata": {
        "id": "J-bDm6um-CiY"
      },
      "source": [
        "def get_page_questions():\n",
        "  rs=div_page_highlight.find_all('h3')\n",
        "  rs =rs + div_page_highlight.find_all('h2')\n",
        "  \n",
        "  for row in rs:          # Print all occurrences\n",
        "      keys.append(row.get_text())\n",
        "  return keys\n",
        "#print(div_page_highlight)"
      ],
      "execution_count": null,
      "outputs": []
    },
    {
      "cell_type": "code",
      "metadata": {
        "id": "cbEmhhbz-GfJ"
      },
      "source": [
        "# rs=div_page_highlight.find_all('h3')\n",
        "# rs =rs + div_page_highlight.find_all('h2')"
      ],
      "execution_count": null,
      "outputs": []
    },
    {
      "cell_type": "code",
      "metadata": {
        "id": "aZq7zcxy-J8-"
      },
      "source": [
        "# keys=[]\n",
        "# for row in rs:          # Print all occurrences\n",
        "#     keys.append(row.get_text())"
      ],
      "execution_count": null,
      "outputs": []
    },
    {
      "cell_type": "code",
      "metadata": {
        "colab": {
          "base_uri": "https://localhost:8080/"
        },
        "id": "ZZuqpBqT-Q14",
        "outputId": "9543772e-8636-4511-8215-14660bc03b85"
      },
      "source": [
        "print(get_page_questions())"
      ],
      "execution_count": null,
      "outputs": [
        {
          "output_type": "stream",
          "text": [
            "['Office Hour', 'Important Information', 'Exam Inspection', 'Vacation Times', 'Examination Office']\n"
          ],
          "name": "stdout"
        }
      ]
    },
    {
      "cell_type": "code",
      "metadata": {
        "id": "qOCbuRM9-W7b",
        "colab": {
          "base_uri": "https://localhost:8080/"
        },
        "outputId": "7628a8df-65c2-44c8-f2eb-1fed147e61b7"
      },
      "source": [
        "keys"
      ],
      "execution_count": null,
      "outputs": [
        {
          "output_type": "execute_result",
          "data": {
            "text/plain": [
              "['Office Hour',\n",
              " 'Important Information',\n",
              " 'Exam Inspection',\n",
              " 'Vacation Times',\n",
              " 'Examination Office']"
            ]
          },
          "metadata": {
            "tags": []
          },
          "execution_count": 300
        }
      ]
    },
    {
      "cell_type": "code",
      "metadata": {
        "id": "ZUeFahl9-ZtU"
      },
      "source": [
        "def add_page_qnda():\n",
        "  page_highlight = re.sub(r'\\s\\s+', ' ', div_page_highlight.get_text())\n",
        "  # page_highlight = page_highlight.strip('\\n')\n",
        "  \n",
        "  for i in range(len(keys)):\n",
        "    # print(page_highlight.split())\n",
        "    if i<len(keys)-1:\n",
        "      txttoput=(page_highlight.split(keys[i])[1]).split(keys[i+1])[0]\n",
        "      qna_dict[keys[i]]=txttoput\n",
        "      page_highlight=page_highlight.replace(keys[i],\" \")\n",
        "      page_highlight=page_highlight.replace(re.sub(r'\\s\\s+', ' ',txttoput),\" \")\n",
        "    else:\n",
        "      # print(page_highlight.split(keys[i],1))\n",
        "      # qna_dict[keys[i]]=(page_highlight.split(keys[i]))\n",
        "      for txt in (page_highlight.split(keys[i],1)):\n",
        "        # txttadd=''\n",
        "        if txt!=\" \":\n",
        "          arr=(txt.split('\\n'))\n",
        "          print(arr)\n",
        "          # for i in range(len(arr)-1)\n",
        "          j=0\n",
        "          while(j<len(arr)-1):\n",
        "            qna_dict[re.sub(r'\\s\\s+', ' ',arr[j])]=re.sub(r'\\s\\s+', ' ',arr[j+1])\n",
        "            j=j+2\n",
        "\n",
        "            "
      ],
      "execution_count": null,
      "outputs": []
    },
    {
      "cell_type": "code",
      "metadata": {
        "colab": {
          "base_uri": "https://localhost:8080/"
        },
        "id": "2QOIYOnZNlWW",
        "outputId": "3ece4965-775c-4f15-efa0-77c1c4dc33ba"
      },
      "source": [
        "add_page_qnda()"
      ],
      "execution_count": null,
      "outputs": [
        {
          "output_type": "stream",
          "text": [
            "[' Submission of theses', 'The submission of theses is still done by sending them by mail to Otto-von-Guericke-Universität, Prüfungsamt FEIT, Universitätsplatz 2, 39106 Magdeburg (the submission date is the date of the postmark) or by dropping them in the red mailbox in front of building 09, which will be emptied at regular intervals.', 'further documents', 'All other documents/forms/applications are also submitted by mail, by dropping them in the mailboxes in front of building 09 or next to FEIT Examination Office or by email.', 'Email requests', \"For matriculated students Email communication with the Examination Office requires the use of OvGU Student Email Address (writeEmail('firstname.surname', 'st', 'ovgu.de', 'emailcf86bf52f15584debfad86848cf44b03')) and indication of the matriculation number!!\", 'Further information is available at\\xa0https://www.ovgu.de/unimagdeburg/en/faqstudents-p-97430.html', 'Stay healthy, take care of yourself and your fellow men! Your FEIT examination office', 'Susanne Bögelsack         ']\n"
          ],
          "name": "stdout"
        }
      ]
    },
    {
      "cell_type": "code",
      "metadata": {
        "colab": {
          "base_uri": "https://localhost:8080/"
        },
        "id": "25Yp0XGJe6YX",
        "outputId": "f9e433f8-a4f8-4834-955f-0ceb56bf45c1"
      },
      "source": [
        "qna_dict"
      ],
      "execution_count": null,
      "outputs": [
        {
          "output_type": "execute_result",
          "data": {
            "text/plain": [
              "{' Submission of theses': 'The submission of theses is still done by sending them by mail to Otto-von-Guericke-Universität, Prüfungsamt FEIT, Universitätsplatz 2, 39106 Magdeburg (the submission date is the date of the postmark) or by dropping them in the red mailbox in front of building 09, which will be emptied at regular intervals.',\n",
              " 'Email requests': \"For matriculated students Email communication with the Examination Office requires the use of OvGU Student Email Address (writeEmail('firstname.surname', 'st', 'ovgu.de', 'emailcf86bf52f15584debfad86848cf44b03')) and indication of the matriculation number!!\",\n",
              " 'Exam Inspection': ' ',\n",
              " 'Further information is available at\\xa0https://www.ovgu.de/unimagdeburg/en/faqstudents-p-97430.html': 'Stay healthy, take care of yourself and your fellow men! Your FEIT examination office',\n",
              " 'Important Information': '\\n---\\n',\n",
              " 'Office Hour': '\\nPlease contact the Examination Offfice by telephone or Email. Personal appointments are possible for exeptional cases. ',\n",
              " 'Vacation Times': '\\n--- ',\n",
              " 'about': 'EIT - Examination Office',\n",
              " 'department': 'FACULTY OF ELECTRICAL ENGINEERING\\nAND INFORMATION TECHNOLOGY',\n",
              " 'further documents': 'All other documents/forms/applications are also submitted by mail, by dropping them in the mailboxes in front of building 09 or next to FEIT Examination Office or by email.',\n",
              " 'title': 'EIT - Examination Office'}"
            ]
          },
          "metadata": {
            "tags": []
          },
          "execution_count": 305
        }
      ]
    },
    {
      "cell_type": "code",
      "metadata": {
        "id": "L78Ja7Pv-xN_"
      },
      "source": [
        "# id=margin50_12  get the CONTACT information (clickable link)\n",
        "def getcontactinfo():\n",
        "  div_contacts_info = soup.find(\"div\", {\"id\": \"margin50_12\"})\n",
        "  contact_info = re.sub(r'\\s\\s+', ' ', div_contacts_info.get_text())\n",
        "  contact_info = contact_info.strip(' \\n\\t')\n",
        "  # contact_info\n",
        "  qna_dict['Contact']=contact_info"
      ],
      "execution_count": null,
      "outputs": []
    },
    {
      "cell_type": "code",
      "metadata": {
        "id": "2kAQl2kWcOaX"
      },
      "source": [
        "getcontactinfo()"
      ],
      "execution_count": null,
      "outputs": []
    },
    {
      "cell_type": "code",
      "metadata": {
        "id": "cer58jZj_Aj1",
        "colab": {
          "base_uri": "https://localhost:8080/"
        },
        "outputId": "aa56a203-2f3e-49b8-8066-1bba2ca785ed"
      },
      "source": [
        "qna_dict"
      ],
      "execution_count": null,
      "outputs": [
        {
          "output_type": "execute_result",
          "data": {
            "text/plain": [
              "{' Submission of theses': 'The submission of theses is still done by sending them by mail to Otto-von-Guericke-Universität, Prüfungsamt FEIT, Universitätsplatz 2, 39106 Magdeburg (the submission date is the date of the postmark) or by dropping them in the red mailbox in front of building 09, which will be emptied at regular intervals.',\n",
              " 'Contact': \"Contact contact person\\nSusanne BögelsackBuilding 10 | Room 152Tel.: +49 (0) 391 - 67 - 58642Fax: +49 (0) 391 - 67 - 42219writeEmail('susanne.boegelsack', 'ovgu', 'de', 'emailcaf49d3a61ff29af1da4610c8f38f56e') mailing address\\nOtto-von-Guericke-Universität MagdeburgFEIT - PPAUniversitätsplatz 239106 Magdeburg\",\n",
              " 'Email requests': \"For matriculated students Email communication with the Examination Office requires the use of OvGU Student Email Address (writeEmail('firstname.surname', 'st', 'ovgu.de', 'emailcf86bf52f15584debfad86848cf44b03')) and indication of the matriculation number!!\",\n",
              " 'Exam Inspection': ' ',\n",
              " 'Further information is available at\\xa0https://www.ovgu.de/unimagdeburg/en/faqstudents-p-97430.html': 'Stay healthy, take care of yourself and your fellow men! Your FEIT examination office',\n",
              " 'Important Information': '\\n---\\n',\n",
              " 'Office Hour': '\\nPlease contact the Examination Offfice by telephone or Email. Personal appointments are possible for exeptional cases. ',\n",
              " 'Vacation Times': '\\n--- ',\n",
              " 'about': 'EIT - Examination Office',\n",
              " 'department': 'FACULTY OF ELECTRICAL ENGINEERING\\nAND INFORMATION TECHNOLOGY',\n",
              " 'further documents': 'All other documents/forms/applications are also submitted by mail, by dropping them in the mailboxes in front of building 09 or next to FEIT Examination Office or by email.',\n",
              " 'title': 'EIT - Examination Office'}"
            ]
          },
          "metadata": {
            "tags": []
          },
          "execution_count": 308
        }
      ]
    },
    {
      "cell_type": "markdown",
      "metadata": {
        "id": "WXT7Ames_W22"
      },
      "source": [
        "#### Extracting info from Exam schedule"
      ]
    },
    {
      "cell_type": "code",
      "metadata": {
        "id": "CcSgOH8kAd_A"
      },
      "source": [
        "  response = urllib.request.urlopen('https://www.eit.ovgu.de/eit/en/Examination+Office/Examination+Schedules-p-52.html')\n",
        "  html_exam_schedule = response.read()\n",
        "  soup_schedule = BeautifulSoup(html_exam_schedule, features=\"html.parser\")"
      ],
      "execution_count": null,
      "outputs": []
    },
    {
      "cell_type": "code",
      "metadata": {
        "id": "i8ZvG3Fv_bSR"
      },
      "source": [
        "# def get_all_text(html_url):  \n",
        "#   response = urllib.request.urlopen('https://www.eit.ovgu.de/eit/en/Examination+Office/Examination+Schedules-p-52.html')\n",
        "#   html_exam_schedule = response.read()\n",
        "#   soup_schedule = BeautifulSoup(html_exam_schedule, features=\"html.parser\")\n",
        "#   #kill all script and style elements\n",
        "#   for script in soup_schedule([\"script\", \"style\"]):\n",
        "#     script.extract()    # rip it out\n",
        "\n",
        "#   # get text\n",
        "#   text = soup_schedule.get_text()\n",
        "\n",
        "#   # break into lines and remove leading and trailing space on each\n",
        "#   lines = (line.strip() for line in text.splitlines())\n",
        "#   # break multi-headlines into a line each\n",
        "#   chunks = (phrase.strip() for line in lines for phrase in line.split(\"  \"))\n",
        "#   # drop blank lines\n",
        "#   text = '\\n'.join(chunk for chunk in chunks if chunk)\n",
        "#   return text\n",
        "\n"
      ],
      "execution_count": null,
      "outputs": []
    },
    {
      "cell_type": "code",
      "metadata": {
        "id": "uAvWB9nYAQPf"
      },
      "source": [
        "#print(soup_schedule.prettify())"
      ],
      "execution_count": null,
      "outputs": []
    },
    {
      "cell_type": "code",
      "metadata": {
        "id": "W3-janQcAPmr"
      },
      "source": [
        "# print(get_all_text('https://www.eit.ovgu.de/eit/en/Examination+Office/Examination+Schedules-p-52.html'))"
      ],
      "execution_count": null,
      "outputs": []
    },
    {
      "cell_type": "markdown",
      "metadata": {
        "id": "OvnRTxxOCaQo"
      },
      "source": [
        "https://www.eit.ovgu.de/eit_media/Dokumente/Pr%C3%BCfungsamt/Pr%C3%BCfungspl%C3%A4ne/WS+2020+Pr%C3%BCfungsplan-p-7856.pdf"
      ]
    },
    {
      "cell_type": "code",
      "metadata": {
        "id": "e99PaSMVCKDu"
      },
      "source": [
        "def getExaminationSchedule():\n",
        "  div_exam_sched_highlight = soup_schedule.find(\"div\", {\"id\": \"maincontent\"})\n",
        "  #print(div)\n",
        "  eit=\"https://www.eit.ovgu.de\"\n",
        "  ex_sch=div_exam_sched_highlight.find_all('h2')\n",
        "  texttoput=\" \"\n",
        "  for elem in div_exam_sched_highlight.find_all('p',recursive=True):\n",
        "    texttoput+=elem.get_text()+\" \"\n",
        "    \n",
        "    if elem.find_all('a'):\n",
        "      for el in elem.find_all('a'):\n",
        "        texttoput+=eit+\"/\"+el.get('href')+\" \"\n",
        "  print(texttoput)\n",
        "  exam_sched_highlight = re.sub(r'\\s\\s+', ' ', div_exam_sched_highlight.get_text())\n",
        "  exam_sched_highlight = exam_sched_highlight.strip(' \\n\\t')\n",
        "  for row in ex_sch:\n",
        "    qna_dict[row.get_text()]=re.sub(r'\\s\\s+', ' ',texttoput)"
      ],
      "execution_count": null,
      "outputs": []
    },
    {
      "cell_type": "code",
      "metadata": {
        "colab": {
          "base_uri": "https://localhost:8080/"
        },
        "id": "e5tjmaJJ63Al",
        "outputId": "7c2569a8-4d32-4e92-ede5-e3d05c1032f8"
      },
      "source": [
        "getExaminationSchedule()"
      ],
      "execution_count": null,
      "outputs": [
        {
          "output_type": "stream",
          "text": [
            " Examinations in Wintersemester 2020/21   ---please consider changes/updates--- Examination Schedule Wintersemester 2020/21 (21.03.2021) https://www.eit.ovgu.de//eit_media/Dokumente/Pr%C3%BCfungsamt/Pr%C3%BCfungspl%C3%A4ne/WS+2020+Pr%C3%BCfungsplan_Covid.pdf Online Registration for examinations starts on January, 1st 2021. Deadline for registation is 2 weeks before each examination. Deadline for withdrawal is 1 week before each examination. Non-participation in examinations will automatically be considered as withdrawal from the examination, submission of a medical certificate is not necessary. Also failed examinations will be considered as withdrawal.   \n"
          ],
          "name": "stdout"
        }
      ]
    },
    {
      "cell_type": "code",
      "metadata": {
        "colab": {
          "base_uri": "https://localhost:8080/"
        },
        "id": "avJTCYkm4QEf",
        "outputId": "30693685-68d5-4916-afff-6af97bbfb5de"
      },
      "source": [
        "qna_dict"
      ],
      "execution_count": null,
      "outputs": [
        {
          "output_type": "execute_result",
          "data": {
            "text/plain": [
              "{' Submission of theses': 'The submission of theses is still done by sending them by mail to Otto-von-Guericke-Universität, Prüfungsamt FEIT, Universitätsplatz 2, 39106 Magdeburg (the submission date is the date of the postmark) or by dropping them in the red mailbox in front of building 09, which will be emptied at regular intervals.',\n",
              " 'Contact': \"Contact contact person\\nSusanne BögelsackBuilding 10 | Room 152Tel.: +49 (0) 391 - 67 - 58642Fax: +49 (0) 391 - 67 - 42219writeEmail('susanne.boegelsack', 'ovgu', 'de', 'emailcaf49d3a61ff29af1da4610c8f38f56e') mailing address\\nOtto-von-Guericke-Universität MagdeburgFEIT - PPAUniversitätsplatz 239106 Magdeburg\",\n",
              " 'Email requests': \"For matriculated students Email communication with the Examination Office requires the use of OvGU Student Email Address (writeEmail('firstname.surname', 'st', 'ovgu.de', 'emailcf86bf52f15584debfad86848cf44b03')) and indication of the matriculation number!!\",\n",
              " 'Exam Inspection': ' ',\n",
              " 'Examination Schedules': ' Examinations in Wintersemester 2020/21 ---please consider changes/updates--- Examination Schedule Wintersemester 2020/21 (21.03.2021) https://www.eit.ovgu.de//eit_media/Dokumente/Pr%C3%BCfungsamt/Pr%C3%BCfungspl%C3%A4ne/WS+2020+Pr%C3%BCfungsplan_Covid.pdf Online Registration for examinations starts on January, 1st 2021. Deadline for registation is 2 weeks before each examination. Deadline for withdrawal is 1 week before each examination. Non-participation in examinations will automatically be considered as withdrawal from the examination, submission of a medical certificate is not necessary. Also failed examinations will be considered as withdrawal. ',\n",
              " 'Further information is available at\\xa0https://www.ovgu.de/unimagdeburg/en/faqstudents-p-97430.html': 'Stay healthy, take care of yourself and your fellow men! Your FEIT examination office',\n",
              " 'Important Information': '\\n---\\n',\n",
              " 'Office Hour': '\\nPlease contact the Examination Offfice by telephone or Email. Personal appointments are possible for exeptional cases. ',\n",
              " 'Vacation Times': '\\n--- ',\n",
              " 'about': 'EIT - Examination Office',\n",
              " 'department': 'FACULTY OF ELECTRICAL ENGINEERING\\nAND INFORMATION TECHNOLOGY',\n",
              " 'further documents': 'All other documents/forms/applications are also submitted by mail, by dropping them in the mailboxes in front of building 09 or next to FEIT Examination Office or by email.',\n",
              " 'title': 'EIT - Examination Office'}"
            ]
          },
          "metadata": {
            "tags": []
          },
          "execution_count": 312
        }
      ]
    },
    {
      "cell_type": "markdown",
      "metadata": {
        "id": "iUMEx6ZdFW14"
      },
      "source": [
        "#### Examination committe"
      ]
    },
    {
      "cell_type": "code",
      "metadata": {
        "id": "ANgE-KX9m32-"
      },
      "source": [
        "import re"
      ],
      "execution_count": null,
      "outputs": []
    },
    {
      "cell_type": "code",
      "metadata": {
        "id": "ToPncROrFSWy"
      },
      "source": [
        "import urllib.request\n",
        "from bs4 import BeautifulSoup\n",
        "\n",
        "response = urllib.request.urlopen('https://www.eit.ovgu.de/eit/en/Examination+Office/Examination+Committees-p-64.html')\n",
        "html_exam_committe = response.read()\n",
        "soup_committe = BeautifulSoup(html_exam_committe, features=\"html.parser\")\n",
        "\n",
        "# for script in soup_committe([\"script\", \"style\"]):\n",
        "#   script.extract()    # rip it out\n",
        "\n",
        "# # get text\n",
        "# text = soup_committe.get_text()\n",
        "\n",
        "# # break into lines and remove leading and trailing space on each\n",
        "# lines = (line.strip() for line in text.splitlines())\n",
        "# # break multi-headlines into a line each\n",
        "# chunks = (phrase.strip() for line in lines for phrase in line.split(\"  \"))\n",
        "# # drop blank lines\n",
        "# text = '\\n'.join(chunk for chunk in chunks if chunk)"
      ],
      "execution_count": null,
      "outputs": []
    },
    {
      "cell_type": "code",
      "metadata": {
        "id": "ECL9bEgLFkdW"
      },
      "source": [
        "#print(text)"
      ],
      "execution_count": null,
      "outputs": []
    },
    {
      "cell_type": "code",
      "metadata": {
        "colab": {
          "base_uri": "https://localhost:8080/"
        },
        "id": "32kpZzgMGMrV",
        "outputId": "1257eb38-5173-47e6-bb35-ffa04cad04d5"
      },
      "source": [
        "# print(html_exam_committe)"
      ],
      "execution_count": null,
      "outputs": [
        {
          "output_type": "stream",
          "text": [
            "b'<!DOCTYPE html>\\n<html lang=\"en\">\\n<head>\\n\\t<title>\\n\\t\\t EIT -  \\t\\t Examination Committees\\t</title>\\n\\n\\t<meta charset=\"utf-8\">\\n\\t<meta http-equiv=\"X-UA-Compatible\" content=\"IE=edge,chrome=1\">\\n\\t<meta name=\"date\" content=\"2020-10-07 10:42:41\" />\\n\\t<meta name=\"robots\" content=\"index,follow\" />\\n\\t\\t\\t\\t<meta name=\"generator\" content=\"EGOTEC 16.9.5.3 110449/www.EGOTEC.com\" />\\n\\t\\t<meta name=\"description\" lang=\"en\" content=\"\" />\\n\\t<meta name=\"keywords\" lang=\"en\" content=\"\" />\\n\\t<meta name=\"viewport\" content=\"width=device-width, initial-scale=1.0, user-scalable=yes\">\\n\\t\\t\\t<link rel=\"shortcut icon\" href=\"/eit_media/Bilder/Favicon/Favicon2-height-270-width-270.png\" />\\n\\t\\t<link type=\"text/css\" rel=\"stylesheet\" href=\"/pub/theme/ovgu_min_theme/skin/style.css\" />\\n\\t\\t\\t<link type=\"text/css\" rel=\"stylesheet\" href=\"/skin/fak_eit/style.css\" />\\n\\t\\t<script type=\"text/javascript\" src=\"/pub/theme/ovgu_min_theme/skin/js/jquery-1.10.2.min.js\"></script>\\n\\t\\t<script type=\"text/javascript\" src=\"/pub/theme/ovgu_min_theme/skin/readspeaker/webReader/webReader.js?pids=wr\"></script>\\n\\t\\n\\t<link type=\"text/css\" rel=\"stylesheet\" href=\"/pub/theme/ovgu_min_theme/skin/tag_cloud.css\" />\\n\\t\\n\\t\\t\\t<script type=\"text/javascript\">\\n\\t\\t\\t<!--\\n\\t\\t\\tfunction sendEmail(a, b, c, d)\\n\\t\\t\\t{\\n\\t\\t\\t\\tif (typeof d == \\'undefined\\') d = \\'\\';\\n\\t\\t\\t\\twindow.location = \"mailto:\" + basteln(a, b, c, true) + d;\\n\\t\\t\\t}\\n\\n\\t\\t\\tfunction writeEmail(a, b, c, id)\\n\\t\\t\\t{\\n\\t\\t\\t\\tdocument.getElementById(id).innerHTML = basteln(a, b, c, false);\\n\\t\\t\\t}\\n\\n\\t\\t\\tfunction setEmailStatus(a, b, c)\\n\\t\\t\\t{\\n\\t\\t\\t\\tstatus = \"mailto:\"+basteln(a, b, c, true);\\n\\t\\t\\t}\\n\\n\\t\\t\\tfunction basteln(a, b, c, d)\\n\\t\\t\\t{\\n\\t\\t\\t\\tokvg = a;\\n\\t\\t\\t\\tokvg += \"@\";\\n\\t\\t\\t\\tokvg += b + \".\" + c;\\n\\t\\t\\t\\tif (d) okvg = okvg.replace(/<.*?>/g, \"\");\\n\\t\\t\\t\\treturn okvg;\\n\\t\\t\\t}\\n\\t\\t\\t//-->\\n\\t\\t\\t</script>\\n\\t\\t\\t</head>\\n\\t\\t\\n\\n<body data-page=\"64\" data-type=\"page\">\\n\\t<header role=\"banner\">\\n\\t\\t\\t\\t\\t<div id=header role=\"banner\">\\n\\n\\t<section id=\"header_mainlogo\" onclick=\"\">\\n\\t\\t\\t\\t\\t<a href=\"http://www.ovgu.de\" target=\"_top\" title=\"Homepage of the Otto-von-Guericke-University Magdeburg\">\\n\\t\\t\\t\\t\\t\\t\\t\\t\\t\\t\\t<img src=\"/skin/fak_eit/img/logo_fak.png\"\\n\\t\\t\\t\\t\\t srcset=\"/skin/fak_eit/img/logo.png 450w, \\n\\t\\t\\t\\t\\t\\t\\t /skin/fak_eit/img/logo_fak.png 900w\" alt=\"Otto-von-Guericke-Universit\\xc3\\xa4t Magdeburg\">\\n<!--\\t\\t\\t\\t<img src=\"/skin/fak_eit/img/logo_fak.png\" border=\"0\" alt=\"Otto-von-Guericke-Universit\\xc3\\xa4t Magdeburg\"/></a> -->\\n\\t\\t\\t\\t\\t\\t</section>\\n\\t\\n\\t<section id=\"header_sitetitle\">\\n\\t\\t\\t\\t\\t\\t\\t\\t\\t<a href=\"/eit/en/\" target=\"_top\" title=\"Homepage\">\\n\\t\\t\\t\\t\\t\\t\\t<h1 id=\"header_title_text\">\\n\\t\\t\\t\\t\\t<div></div>\\n\\t\\t\\t\\t\\t<div>FACULTY OF ELECTRICAL ENGINEERING</div>\\n\\t\\t\\t\\t\\t<div>AND INFORMATION TECHNOLOGY</div>\\n\\t\\t\\t\\t</h1> \\n\\t\\t\\t</a>\\n\\t\\t\\t</section>\\n\\t\\n\\t\\n\\t<div id=\"service_box2\">\\n\\n\\t\\t\\t<div id=\"service_navi_webinfo\">\\t\\n\\t\\t\\t\\t<div id=\"service_navi_webinfo_titel\" onclick=\"\">\\t\\n\\t\\t\\t\\t\\t<img src=\"/pub/theme/ovgu_min_theme/skin/img/svg/ic_info_outline_24px.svg\" alt=\"Webseiteninformationen\"/><span>Service</span>\\n\\t\\t\\t\\t</div>\\n\\t\\t\\t\\t<div id=\"service_navi_webinfo_liste\">\\n\\t\\t\\t\\t\\t<a href=\"/eit/en/home/Sitemap.html\" target=\"_top\" title=\"Sitemap\">Sitemap</a>\\n\\t\\t\\t\\t\\t<a href=\"/eit/en/home/Imprint.html\" target=\"_top\" title=\"Impressum\">Imprint</a>\\n\\t\\t\\t\\t\\t<a href=\"/eit/en/home/Contact.html\" target=\"_top\" title=\"Kontakt\">Contact</a>\\n\\t\\t\\t\\t</div>\\n\\t\\t\\t</div>\\n\\t\\t\\t<div id=\"service_navi_search\">\\t\\t\\n\\t\\t\\t\\t<div id=\"service_navi_search_icon\" onclick=\"\">\\t\\t\\n\\t\\t\\t\\t\\t<img src=\"/pub/theme/ovgu_min_theme/skin/img/svg/ic_search_24px.svg\" alt=\"Suche\"/>\\n\\t\\t\\t\\t</div>\\n\\t\\t\\t\\t<div id=\"service_navi_search_form\" onclick=\"\">\\n\\t\\t\\t\\t\\t\\t\\t\\t\\t\\t\\t\\t\\t\\t\\t\\t\\t\\t\\t\\t\\t\\t\\t\\t\\t\\t\\t\\t<form id=\"search_form\" method=\"get\" action=\"https://www.eit.ovgu.de/search\">\\n\\t\\t\\t\\t\\t\\t\\t\\t\\t\\t\\t\\t<input class=\"search_input\"  type=\"search\" name=q placeholder=\"Search phrase\" value=\"\" />\\n\\t\\t\\t\\t\\t\\t\\t<input class=\"search_button\" type=\"image\"  src=\"/pub/theme/ovgu_min_theme/skin/img/svg/ic_search_24px.svg\" alt=\"Absenden\"/>\\n\\t\\t\\t\\t\\t\\t</form>\\t\\n\\t\\t\\t\\t</div>\\n\\t\\t\\t</div>\\n\\n\\t\\t\\t<div id=\"service_navi_readspeak\" onclick=\"\">\\t\\n\\t\\t\\t\\n\\t\\t\\t\\t \\n\\t\\n\\t\\t\\t\\t<div id=\"readspeaker_button1\" class=\"rs_skip rs_preserve rs_href\" style=\"margin-top: 0.25rem; \">\\n\\t\\t\\t\\t\\t\\t\\t\\t\\t\\t\\t\\t\\t\\t\\t\\t<a href=\"//app-eu.readspeaker.com/cgi-bin/rsent?customerid=4717&amp;amp;amp;amp;amp;amp;amp;amp;lang=en_us&amp;amp;amp;amp;amp;amp;amp;amp;readid=main&amp;amp;amp;amp;amp;amp;amp;amp;url=https%3A%2F%2Fwww.eit.ovgu.de%2Feit%2Fen%2FExamination%2BOffice%2FExamination%2BCommittees.html\" \\n\\t\\t\\t\\t\\t\\t\\trel=\"nofollow\" \\n\\t\\t\\t\\t\\t\\t\\ttitle=\"Click to read aloud\" \\n\\t\\t\\t\\t\\t\\t\\tonclick=\"readpage(this.href, \\'readspeaker_player\\'); return false;\">\\n\\t\\t\\t\\t\\t\\t\\t<img src=\"/pub/theme/ovgu_min_theme/skin/img/webreader.png\" alt=\"Read aloud with ReadSpeaker\" height=\"20px\" width=\"20px\" />\\n\\t\\t\\t\\t\\t\\t</a>\\n\\t\\t\\t\\t\\t\\t\\t\\t\\t</div>\\n\\t\\t\\t\\n<!--\\t\\t\\t\\t<img src=\"/pub/theme/ovgu_min_theme/skin/img/svg/ic_play_circle_outline_24px.svg\" alt=\"Vorlesen\"/>-->\\n<!--\\t\\t\\t\\t<img src=\"/pub/theme/ovgu_min_theme/skin/img/webreader.png\" alt=\"Read aloud with ReadSpeaker\" height=\"20px\" width=\"20px\" />-->\\n\\t\\t\\t</div>\\n\\t\\t\\t<div id=\"service_navi_sprachen\" onclick=\"\">\\t\\t\\n<!--\\t\\t\\t\\t<img src=\"/pub/theme/ovgu_min_theme/skin/img/svg/ic_public_24px.svg\" alt=\"Sprachen\"/>-->\\n\\t\\t\\t\\t<div id=\"lang_sel\">\\n\\t\\t\\t\\t\\t\\n\\t\\t\\t\\t\\t\\t\\t\\t\\t\\t\\t\\n\\t\\t\\t\\t\\t\\t\\t\\t\\t\\t\\t\\t\\t\\t\\t\\t\\t\\t\\t\\t\\t\\t\\t\\t\\t\\t\\t\\t\\t\\t\\t\\t\\t\\t\\t\\t\\t\\t\\t\\t\\t\\t\\t\\t\\t\\t\\t\\t<a href=\"/Pr%C3%BCfungsamt/Pr%C3%BCfungsaussch%C3%BCsse.html\" title=\"Webseite auf deutsch\">\\n\\t\\t\\t\\t\\t\\t\\t\\t<img src=\"/pub/theme/ovgu_min_theme/skin/img/de.png\" border=\"0\" alt=\"Webseite auf deutsch\" title=\"Webseite auf deutsch\"\\n\\t\\t\\t\\t\\t\\t\\t\\t class=\"lang_inactive\" />\\n\\t\\t\\t\\t\\t\\t\\t</a>\\n\\t\\t\\t\\t\\t\\t\\t\\t\\t\\t\\t\\t\\t\\t\\t\\t\\t\\n\\t\\t\\t\\t\\t\\t\\t\\t\\t\\t\\t\\t\\t\\t\\t\\t\\t\\t\\t\\t\\t\\t\\t\\t\\t\\t\\t\\t\\t\\t\\t\\t\\t\\t\\t\\t\\t\\t\\t\\t\\t\\t\\t\\t\\t\\t\\t\\t<a href=\"/eit/en/Examination+Office/Examination+Committees-p-64.html\" title=\"Website in english\">\\n\\t\\t\\t\\t\\t\\t\\t\\t<img src=\"/pub/theme/ovgu_min_theme/skin/img/en.png\" border=\"0\" alt=\"Website in english\" title=\"Website in english\"\\n\\t\\t\\t\\t\\t\\t\\t\\t id=\"lang_active\" />\\n\\t\\t\\t\\t\\t\\t\\t</a>\\n\\t\\t\\t\\t\\t\\t\\t\\t\\t\\t\\t           \\n\\t\\t\\t\\t</div>\\n\\t\\t\\t</div>\\n\\n\\t</div>\\n\\n</div>\\n\\n\\n\\t\\t\\t\\t\\t</header>\\n\\n\\t\\n\\n\\n\\n\\n\\n\\n\\t\\n\\n\\n\\n<nav id=\"primaer_nav\" role=\"navigation\">\\n\\t<div id=\"primaer_nav_links\">\\n\\t\\t<span id=\"primaer_nav_links_min\"  class=\"primaerlinks_5\">\\r\\n<ul class=\"level1\">\\r\\n\\t\\t\\t\\t\\r\\n\\t\\t\\t\\t\\t\\t<li>\\r\\n\\t\\t\\t<a href=\"/en/Faculty.html\">Faculty</a>\\r\\n\\t\\t\\t\\t\\t</li>\\r\\n\\t\\t\\t\\r\\n\\t\\t\\t\\t\\t\\t<li>\\r\\n\\t\\t\\t<a href=\"/en/Institutes.html\">Institutes</a>\\r\\n\\t\\t\\t\\t\\t</li>\\r\\n\\t\\t\\t\\r\\n\\t\\t\\t\\t\\t\\t<li>\\r\\n\\t\\t\\t<a href=\"/en/Studium.html\">Study and Career</a>\\r\\n\\t\\t\\t\\t\\t</li>\\r\\n\\t\\t\\t\\r\\n\\t\\t\\t\\t\\t\\t<li>\\r\\n\\t\\t\\t<a href=\"/en/Research.html\">Research</a>\\r\\n\\t\\t\\t\\t\\t</li>\\r\\n\\t\\t\\t\\r\\n\\t\\t\\t\\t\\t\\t<li class=\"active\">\\r\\n\\t\\t\\t<a href=\"/en/Examination+Office.html\" class=\"active\">Examination Office</a>\\r\\n\\t\\t\\t\\t\\t</li>\\r\\n\\t</ul> </span>\\n\\t\\t<div id=\"primaer_nav_links_max\"  class=\"primaerlinks_5\">\\n\\t\\t\\t<div id=\"primaer_nav_links_max_titel\" onclick=\"\"><span></span></div>\\n\\t\\t\\t<div id=\"primaer_nav_links_max_liste\">\\n\\t\\t\\t\\t\\r\\n<ul class=\"level1\">\\r\\n\\t\\t\\t\\t\\r\\n\\t\\t\\t\\t\\t\\t<li>\\r\\n\\t\\t\\t<a href=\"/en/Faculty.html\">Faculty</a>\\r\\n\\t\\t\\t\\t\\t</li>\\r\\n\\t\\t\\t\\r\\n\\t\\t\\t\\t\\t\\t<li>\\r\\n\\t\\t\\t<a href=\"/en/Institutes.html\">Institutes</a>\\r\\n\\t\\t\\t\\t\\t</li>\\r\\n\\t\\t\\t\\r\\n\\t\\t\\t\\t\\t\\t<li>\\r\\n\\t\\t\\t<a href=\"/en/Studium.html\">Study and Career</a>\\r\\n\\t\\t\\t\\t\\t</li>\\r\\n\\t\\t\\t\\r\\n\\t\\t\\t\\t\\t\\t<li>\\r\\n\\t\\t\\t<a href=\"/en/Research.html\">Research</a>\\r\\n\\t\\t\\t\\t\\t</li>\\r\\n\\t\\t\\t\\r\\n\\t\\t\\t\\t\\t\\t<li class=\"active\">\\r\\n\\t\\t\\t<a href=\"/en/Examination+Office.html\" class=\"active\">Examination Office</a>\\r\\n\\t\\t\\t\\t\\t</li>\\r\\n\\t</ul>\\n\\t\\t\\t</div>\\n\\t\\t</div>\\n\\t</div>\\n\\t<div id=\"primaer_nav_direktlinks\">\\n    \\t<div id=\"primaer_nav_direktlinks_titel\" onclick=\"\"><span></span></div>\\n    \\t<div id=\"primaer_nav_direktlinks_liste\">\\n        \\t\\r\\n<ul class=\"level1\">\\r\\n\\t\\t\\t\\t\\r\\n\\t\\t\\t\\t\\t\\t<li>\\r\\n\\t\\t\\t<a href=\"/en/Faculty.html\">Faculty</a>\\r\\n\\t\\t\\t\\t\\t</li>\\r\\n\\t\\t\\t\\r\\n\\t\\t\\t\\t\\t\\t<li>\\r\\n\\t\\t\\t<a href=\"/en/Institutes.html\">Institutes</a>\\r\\n\\t\\t\\t\\t\\t</li>\\r\\n\\t\\t\\t\\r\\n\\t\\t\\t\\t\\t\\t<li>\\r\\n\\t\\t\\t<a href=\"/en/Studium.html\">Study and Career</a>\\r\\n\\t\\t\\t\\t\\t</li>\\r\\n\\t\\t\\t\\r\\n\\t\\t\\t\\t\\t\\t<li>\\r\\n\\t\\t\\t<a href=\"/en/Research.html\">Research</a>\\r\\n\\t\\t\\t\\t\\t</li>\\r\\n\\t\\t\\t\\r\\n\\t\\t\\t\\t\\t\\t<li class=\"active\">\\r\\n\\t\\t\\t<a href=\"/en/Examination+Office.html\" class=\"active\">Examination Office</a>\\r\\n\\t\\t\\t\\t\\t</li>\\r\\n\\t</ul>\\n    \\t</div>\\n\\t</div>\\n</nav>   \\n<nav id=\"sekundaer_nav\" role=\"navigation\">\\n   <div id=\"breadcrumb_nav\"  onclick=\"\">\\n      <div  id=\"bcr\" class=\"breadcrumb flat btn-group btn-breadcrumb0\" style=\"margin-right: 1em; line-height: 1;\">\\n                <a href=\"/eit/en/\"  class=\"breadcrumb_link\"><div>Home</div></a>\\n                                                                     <a href=\"/eit/en/Examination+Office.html\" class=\"breadcrumb_link\" alt=\"Examination Office\" title=\"Examination Office\"><div>Examination Office\\n                 </div></a>\\n                                                                           <a href=\"/eit/en/Examination+Office/Examination+Committees-p-64.html\" class=\"breadcrumb_link\" alt=\"Examination Committees\" title=\"Examination Committees\"><div>Examination Committees\\n                 </div></a>\\n                                       </div>\\n      <div id=\"sekundaer_nav_links\" onclick=\"\">    \\n         <ul id=\"sekundaer_nav_links_min\" class=\"nav_links_0\">\\n                     </ul>\\n         <ul id=\"sekundaer_nav_links_add\" class=\"nav_links_0\">\\n                     </ul>\\n      </div>\\n               \\n   </div>\\n</nav>\\n\\t \\n\\t\\n\\t\\t\\n\\t<main id=\"main\">\\n\\t\\t<div id=\"maincontent\" >\\n\\t\\t\\t\\n\\n<section id=\"content\" style=\" page-break-before: avoid; \">\\n\\n\\t\\n\\t\\t\\t\\t\\t\\t<div id=\"readspeaker_player\" class=\"rs_preserve rs_skip rs_addtools rs_splitbutton rs_exp\"></div>\\n\\n\\t\\t<div style=\"display: flex;\">\\n\\t\\t\\t<h2 id=\"page-title\">Examination Committees</h2>\\n\\t\\t\\t\\t\\t</div>\\n\\t\\t\\n\\t\\t<h3>Tasks of an Examination Committee</h3>\\r\\n<p>The Examination Committee\\'s task is to ensure the proper conduct of examinations. On the basis of the study and examination regulations of the respective degree programme, he has the following competences:</p>\\r\\n<ul>\\r\\n<li>Recognition of performance records</li>\\r\\n<li>Admission and Acceptance of interim and final examinations</li>\\r\\n<li>Evaluation of individual examination performances and the examination as a whole</li>\\r\\n<li>Decision on questions of interpretation in the application of the examination regulations<br /><br /></li>\\r\\n</ul>\\r\\n<h3>Legal foundation</h3>\\r\\n<p>The tasks of the examination committee are regulated in the <a title=\"Study Documents\" href=\"/eit/en/Study+and+Career/Organisation+of+the+studies/Study+Documents.html\">examination regulations</a> of the respective degree programme.</p>\\n\\t\\t\\n\\t\\t\\t\\n\\t\\n\\t\\t\\n</section>\\n\\t\\t\\t\\t\\t</div>\\n\\t\\t\\t\\t\\t\\n\\n\\t\\t\\n<div id=\"marginal\" class=\"margin50\" role=\"complementary\">\\n\\n\\t\\t<!-- Marginalbereich f\\xc3\\xbcr 50% - beide Spalten-->\\n\\t\\t<div id=\"margin50_12\">\\n\\t\\t\\t\\t\\t\\t\\t\\t\\t\\t\\t\\t\\t\\t\\t\\t\\t\\t\\t\\t\\t\\t\\t\\t\\t\\t\\t\\t\\t\\t\\t\\t\\t\\t\\t\\t\\t\\t\\t\\t\\t\\t\\t\\t\\t\\t\\t\\t\\t\\t\\t\\t\\t\\t\\t\\t\\t\\t\\t\\t\\t\\t\\t\\t\\t\\t\\t\\t\\t\\t\\t\\t\\t\\t\\t\\t<div class=\"marginalbox pos1\">\\n\\t\\t\\t\\t\\t\\t<div class=\"egotec-page_frame\"><link rel=\"stylesheet\" property=\"stylesheet\" href=\"/pub/theme/ovgu_min_theme/skin/boxen/text/style.css\" type=\"text/css\" /><div class=\"secondary_content_news_box \">\\n\\t\\t\\t\\t\\t<span class=\"newbox-title\">Abbreviations individual degree programmes</span>\\n\\t\\t\\t\\t\\t<div class=\"newbox textbox \">\\n\\t\\t<table style=\"width: 100%;\">\\r\\n<tbody>\\r\\n<tr>\\r\\n<td style=\"width: 20%;\"><strong><span style=\"color: #000000;\">Abbreviation</span></strong></td>\\r\\n<td><strong><span style=\"color: #000000;\">Degree programm</span></strong></td>\\r\\n</tr>\\r\\n<tr>\\r\\n<td style=\"width: 15%;\"><span style=\"color: #000000;\"><strong>EEIT</strong></span></td>\\r\\n<td><span style=\"color: #000000;\">Electrical Engineering and Information Technology<br />(English-language)<br /></span></td>\\r\\n</tr>\\r\\n<tr>\\r\\n<td style=\"width: 15%;\"><strong>EERE</strong></td>\\r\\n<td>Electrical Energy Systems - Renewable Energy</td>\\r\\n</tr>\\r\\n<tr>\\r\\n<td style=\"width: 15%;\"><strong>EMO</strong></td>\\r\\n<td>Electromobility</td>\\r\\n</tr>\\r\\n<tr>\\r\\n<td style=\"width: 15%;\"><strong>ETIT</strong></td>\\r\\n<td>Electrical Engineering and Information Technology</td>\\r\\n</tr>\\r\\n<tr>\\r\\n<td style=\"width: 15%;\"><strong>ITSS</strong></td>\\r\\n<td>Information Technology - Smart Systems</td>\\r\\n</tr>\\r\\n<tr>\\r\\n<td style=\"width: 15%;\"><strong>MSE</strong></td>\\r\\n<td>Medical Systems Engineering (English-language)</td>\\r\\n</tr>\\r\\n<tr>\\r\\n<td><strong>MT</strong></td>\\r\\n<td>Medical Engineering</td>\\r\\n</tr>\\r\\n<tr>\\r\\n<td><strong>MTK</strong></td>\\r\\n<td>Mechatronics</td>\\r\\n</tr>\\r\\n<tr>\\r\\n<td><strong>STK</strong></td>\\r\\n<td>Systems Engineering and Technical Cybernetics</td>\\r\\n</tr>\\r\\n<tr>\\r\\n<td><strong>WETIT</strong></td>\\r\\n<td>Industrial Engineering for Electrical Engineering and Information Technology</td>\\r\\n</tr>\\r\\n</tbody>\\r\\n</table>\\n\\t</div>\\n</div></div>\\n\\t\\t\\t\\t\\t</div>\\n\\t\\t\\t\\t\\t\\t\\t\\t\\t\\t\\t\\t\\t\\t\\t\\t\\t\\t\\t\\t\\t\\t\\t\\t\\t\\t\\t\\t\\t\\t\\t\\t\\t\\t\\t\\t\\t\\t\\t\\t\\t\\t\\t\\t\\t\\t\\t\\t\\t\\t\\t\\t\\t\\t\\t\\t\\t\\t\\t\\t\\t\\t\\t\\t\\t\\t\\t\\t\\t\\t\\t\\t\\t\\t\\t\\t\\t\\t\\t\\t\\t\\t\\t\\t\\t\\t\\t\\t\\t\\t\\t\\t\\t\\t\\t\\t\\t\\t\\t\\t\\t\\t\\t\\t\\t\\t\\t\\t\\t\\t\\t\\t\\t\\t\\t\\t\\t\\t\\t\\t\\t\\t\\t\\t\\t\\t\\t\\t\\t\\t\\t\\t\\t\\t\\t\\t\\t\\t\\t\\t\\t\\t\\t\\t\\t\\t\\t\\t\\t\\t\\t\\t\\t\\t\\t\\t\\t\\t\\t\\t\\t\\t\\t\\t\\t\\t\\t\\t\\t\\t\\t\\t\\t\\t\\t\\t\\t\\t\\t\\t\\t\\t\\t\\t\\t\\t\\t\\t\\t\\t\\t\\t\\t\\t\\t\\t\\t\\t\\t\\t\\t\\t\\t\\t\\t\\t\\t\\t\\t\\t\\t\\t\\t\\t\\t\\t\\t\\t\\t\\t\\t\\t\\t\\t\\t\\t\\t\\t\\t\\t\\t\\t\\t\\t\\t\\t\\t\\t\\t\\t\\t\\t\\t\\t\\t\\t\\t\\t\\t\\t\\t\\t\\t\\t\\t\\t\\t\\t\\t\\t\\t\\t\\t\\t\\t\\t\\t\\t\\t\\t\\t\\t\\t\\t\\t\\t\\t\\t\\t\\t\\t\\t\\t\\t\\t\\t\\t\\t\\t\\t\\t\\t\\t\\t\\t\\t\\t\\t\\t\\t\\t\\t\\t\\t\\t\\t\\t\\t\\t\\t\\t\\t\\t\\t\\t\\t\\t\\t\\t\\t\\t\\t\\t\\t\\t\\t\\t\\t\\t\\t\\t\\t\\t\\t\\t\\t\\t\\t\\t\\t\\t\\t\\t\\t\\t\\t\\t\\t\\t\\t\\t\\t\\t\\t\\t\\t\\t\\t\\t\\t\\t\\t\\t\\t\\t\\t\\t\\t\\t\\t\\t\\t\\t\\t\\t\\t\\t\\t\\t\\t\\t\\t\\t\\t\\t\\t\\t\\t\\t\\t\\t\\t\\t\\t\\t\\t\\t\\t\\t\\t\\t\\t\\t\\t\\t\\t\\t\\t\\t\\t\\t\\t\\t\\t\\t\\t\\t\\t\\t\\t\\t\\t\\t\\t\\t\\t\\t\\t\\t\\t\\t\\t\\t\\t\\t\\t\\t\\t\\t\\t\\t\\t\\t\\t\\t\\t\\t\\t\\t\\t\\t\\t\\t\\t\\t\\t\\t\\t\\t\\t\\t\\t\\t\\t\\t\\t\\t\\t\\t\\t\\t\\t\\t\\t\\t\\t\\t\\t\\t\\t\\t\\t\\t\\t\\t\\t\\t\\t\\t\\t\\t\\t\\t\\t\\t\\t\\t\\t\\t\\t\\t\\t\\t\\t\\t\\t\\t\\t\\t\\t\\t\\t\\t\\t\\t\\t\\t\\t\\t\\t\\t\\t\\t\\t\\t\\t\\t\\t\\t\\t\\t\\t\\t\\t\\t\\t\\t\\t\\t\\t\\t\\t\\t\\t\\t\\t\\t\\t\\t\\t\\t\\t\\t\\t\\t\\t\\t\\t\\t\\t\\t\\t\\t\\t\\t\\t\\t\\t\\t\\t\\t\\t\\t\\t\\t\\t\\t\\t\\t\\t\\t\\t\\t\\t\\t\\t\\t\\t\\t\\t\\t\\t\\t\\t\\t\\t\\t\\t\\t\\t\\t\\t\\t\\t</div>\\n\\t\\n\\t\\t\\t<div id=\"margin50_1\" role=\"complementary\" >\\n\\t<!-- Marginalbereich f\\xc3\\xbcr 75% bzw. 50% Spalte 1-->\\n\\t\\t\\t\\t\\t\\t\\t\\t\\t\\t\\t\\t\\t\\t\\t\\t\\t\\t\\t\\t\\t\\t\\t\\t\\t\\t\\t\\t\\t\\t\\t\\t\\t\\t\\t\\t\\t\\t\\t\\t\\t\\t\\t\\t\\t\\t\\t\\t\\t\\t\\t\\t\\t\\t\\t\\t\\t\\t\\t\\t\\t\\t\\t\\t\\t\\t\\t\\t\\t\\t\\t\\t\\t\\t\\t\\t\\t\\t\\t\\t\\t\\t\\t\\t\\t\\t\\t\\t\\t\\t\\t\\t\\t\\t\\t\\t\\t\\t\\t\\t\\t\\t\\t\\t\\t\\t\\t\\t\\t\\t\\t\\t\\t\\t\\t\\t\\t\\t\\t\\t\\t\\t\\t\\t\\t\\t\\t\\t\\t\\t\\t\\t\\t\\t\\t\\t\\t\\t\\t\\t\\t\\t\\t\\t\\t\\t\\t\\t\\t\\t\\t\\t\\t\\t\\t\\t\\t\\t\\t\\t\\t\\t\\t\\t\\t\\t\\t\\t\\t\\t\\t\\t\\t\\t\\t\\t\\t\\t\\t\\t\\t\\t\\t\\t\\t\\t\\t\\t\\t\\t\\t\\t\\t\\t\\t\\t\\t\\t\\t\\t\\t\\t\\t\\t\\t\\t\\t\\t\\t\\t\\t\\t\\t\\t\\t\\t\\t\\t\\t\\t\\t\\t\\t\\t\\t\\t\\t\\t\\t\\t\\t\\t\\t\\t\\t\\t\\t\\t\\t\\t\\t\\t\\t\\t\\t\\t\\t\\t\\t\\t\\t\\t\\t\\t\\t\\t\\t\\t\\t\\t\\t\\t\\t\\t\\t\\t\\t\\t\\t\\t\\t\\t\\t\\t\\t\\t\\t\\t\\t\\t\\t\\t\\t\\t\\t\\t\\t\\t\\t\\t\\t\\t\\t\\t\\t\\t\\t\\t\\t\\t\\t\\t\\t\\t\\t\\t\\t\\t\\t\\t\\t\\t\\t\\t\\t\\t\\t\\t\\t\\t\\t\\t\\t\\t\\t\\t\\t\\t\\t\\t\\t\\t\\t\\t\\t\\t\\t\\t\\t\\t\\t\\t\\t\\t\\t\\t\\t\\t\\t\\t\\t\\t\\t\\t\\t\\t\\t\\t\\t\\t\\t\\t\\t\\t\\t\\t\\t\\t\\t\\t\\t\\t\\t\\t\\t\\t\\t\\t\\t\\t\\t\\t\\t\\t\\t\\t\\t\\t\\t\\t\\t\\t\\t\\t\\t\\t\\t\\t\\t\\t\\t\\t\\t\\t\\t\\t\\t\\t\\t\\t\\t\\t\\t\\t\\t\\t\\t\\t\\t\\t\\t\\t\\t\\t\\t\\t\\t\\t\\t\\t\\t\\t\\t\\t\\t\\t\\t\\t\\t\\t\\t\\t\\t\\t\\t\\t\\t\\t\\t\\t\\t\\t\\t\\t\\t\\t\\t\\t\\t\\t\\t\\t\\t\\t\\t\\t\\t\\t\\t\\t\\t\\t\\t\\t\\t\\t\\t\\t\\t\\t\\t\\t\\t\\t\\t\\t\\t\\t\\t\\t\\t\\t\\t\\t\\t\\t\\t\\t\\t\\t\\t\\t\\t\\t\\t\\t\\t\\t\\t\\t\\t\\t\\t\\t\\t\\t\\t\\t\\t\\t\\t\\t\\t\\t\\t\\t\\t\\t\\t\\t\\t\\t\\t\\t\\t\\t\\t\\t\\t\\t\\t\\t\\t\\t\\t\\t\\t\\t\\t\\t\\t\\t\\t\\t\\t\\t\\t\\t\\t\\t\\t\\t\\t\\t\\t\\t\\t\\t\\t\\t\\t\\t\\t\\t\\t\\t\\t\\t\\t\\t\\t\\t\\t\\t\\t\\t\\t\\t\\t\\t\\t\\t\\t\\t\\t\\t\\t\\t\\t\\t\\t\\t\\t\\t\\t\\t\\t\\t\\t\\t\\t\\t\\t\\t\\t\\t\\t\\t\\t\\t\\t\\t\\t\\t\\t\\t\\t\\t\\t\\t\\t\\t\\t\\t\\t\\t\\t\\t\\t\\t\\t\\t\\t\\t\\t\\t\\t\\t\\t\\t\\t\\t\\t\\t\\t\\t\\t\\t\\t\\t\\t\\t\\t\\t\\t\\t\\t\\t\\t\\t\\t\\t\\t\\t\\t\\t\\t\\t\\t\\t\\t\\t\\t\\t\\t\\t\\t\\t\\t\\t\\t\\t\\t\\t\\t\\t\\t\\t\\t\\t\\t\\t\\t\\t\\t\\t\\t\\t\\t\\t\\t\\t\\t\\t\\t\\t\\t\\t\\t\\t\\t\\t\\t\\t\\t\\t\\t\\t\\t\\t\\t\\t\\t\\t\\t\\t\\t\\t\\t\\t\\t\\t\\t\\t\\t\\t\\t\\t\\t\\t\\t\\t\\t\\t\\t\\t\\t\\t\\t\\t\\t\\t\\t\\t\\t\\t\\t\\t\\t\\t\\t\\t\\t\\t\\t\\t\\t\\t\\t\\t\\t\\t\\t\\t\\t\\t\\t\\t\\t\\t\\t\\t\\t\\t      \\n\\t\\t\\t\\t\\t\\t\\t\\t</div>\\n\\t\\n\\t<!-- Marginalbereich f\\xc3\\xbcr 50% Spalte 2-->\\n\\t\\t<div id=\"margin50_2\" role=\"complementary\" >\\n\\t\\t\\t\\t\\t\\t\\t\\t\\t\\t\\t\\t\\t\\t\\t\\t\\t\\t\\t\\t\\t\\t\\t\\t\\t\\t\\t\\t\\t\\t\\t\\t\\t\\t\\t\\t\\t\\t\\t\\t\\t\\t\\t\\t\\t\\t\\t\\t\\t\\t\\t\\t\\t\\t\\t\\t\\t\\t\\t\\t\\t\\t\\t\\t\\t\\t\\t\\t\\t\\t\\t\\t\\t\\t\\t\\t\\t\\t\\t\\t\\t\\t\\t\\t\\t\\t\\t\\t\\t\\t\\t\\t\\t\\t\\t\\t\\t\\t\\t\\t\\t\\t\\t\\t\\t\\t\\t\\t\\t\\t\\t\\t\\t\\t\\t\\t\\t\\t\\t\\t\\t\\t\\t\\t\\t\\t\\t\\t\\t\\t\\t\\t\\t\\t\\t\\t\\t\\t\\t\\t\\t\\t\\t\\t\\t\\t\\t\\t\\t\\t\\t\\t\\t\\t\\t\\t\\t\\t\\t\\t\\t\\t\\t\\t\\t\\t\\t\\t\\t\\t\\t\\t\\t\\t\\t\\t\\t\\t\\t\\t\\t\\t\\t\\t\\t\\t\\t\\t\\t\\t\\t\\t\\t\\t\\t\\t\\t\\t\\t\\t\\t\\t\\t\\t\\t\\t\\t\\t\\t\\t\\t\\t\\t\\t\\t\\t\\t\\t\\t\\t\\t\\t\\t\\t\\t\\t\\t\\t\\t\\t\\t\\t\\t\\t\\t\\t\\t\\t\\t\\t\\t\\t\\t\\t\\t\\t\\t\\t\\t\\t\\t\\t\\t\\t\\t\\t\\t\\t\\t\\t\\t\\t\\t\\t\\t\\t\\t\\t\\t\\t\\t\\t\\t\\t\\t\\t\\t\\t\\t\\t\\t\\t\\t\\t\\t\\t\\t\\t\\t\\t\\t\\t\\t\\t\\t\\t\\t\\t\\t\\t\\t\\t\\t\\t\\t\\t\\t\\t\\t\\t\\t\\t\\t\\t\\t\\t\\t\\t\\t\\t\\t\\t\\t\\t\\t\\t\\t\\t\\t\\t\\t\\t\\t\\t\\t\\t\\t\\t\\t\\t\\t\\t\\t\\t\\t\\t\\t\\t\\t\\t\\t\\t\\t\\t\\t\\t\\t\\t\\t\\t\\t\\t\\t\\t\\t\\t\\t\\t\\t\\t\\t\\t\\t\\t\\t\\t\\t\\t\\t\\t\\t\\t\\t\\t\\t\\t\\t\\t\\t\\t\\t\\t\\t\\t\\t\\t\\t\\t\\t\\t\\t\\t\\t\\t\\t\\t\\t\\t\\t\\t\\t\\t\\t\\t\\t\\t\\t\\t\\t\\t\\t\\t\\t\\t\\t\\t\\t\\t\\t\\t\\t\\t\\t\\t\\t\\t\\t\\t\\t\\t\\t\\t\\t\\t\\t\\t\\t\\t\\t\\t\\t\\t\\t\\t\\t\\t\\t\\t\\t\\t\\t\\t\\t\\t\\t\\t\\t\\t\\t\\t\\t\\t\\t\\t\\t\\t\\t\\t\\t\\t\\t\\t\\t\\t\\t\\t\\t\\t\\t\\t\\t\\t\\t\\t\\t\\t\\t\\t\\t\\t\\t\\t\\t\\t\\t\\t\\t\\t\\t\\t\\t\\t\\t\\t\\t\\t\\t\\t\\t\\t\\t\\t\\t\\t\\t\\t\\t\\t\\t\\t\\t\\t\\t\\t\\t\\t\\t\\t\\t\\t\\t\\t\\t\\t\\t\\t\\t\\t\\t\\t\\t\\t\\t\\t\\t\\t\\t\\t\\t\\t\\t\\t\\t\\t\\t\\t\\t\\t\\t\\t\\t\\t\\t\\t\\t\\t\\t\\t\\t\\t\\t\\t\\t\\t\\t\\t\\t\\t\\t\\t\\t\\t\\t\\t\\t\\t\\t\\t\\t\\t\\t\\t\\t\\t\\t\\t\\t\\t\\t\\t\\t\\t\\t\\t\\t\\t\\t\\t\\t\\t\\t\\t\\t\\t\\t\\t\\t\\t\\t\\t\\t</div>\\n\\t\\n</div>\\n\\t\\t\\t</main>\\n\\t\\n\\t\\t\\t\\t\\n\\n<div class=\"ubox_container100\"  >\\n\\t\\n\\t\\t\\t \\n\\t\\t\\t\\t\\t\\t\\t\\t\\t\\t\\t\\t\\t\\n\\t\\t\\t\\t\\t\\t\\t\\t\\t\\t\\t\\t\\t\\t\\t\\t\\n\\t\\t\\t\\t\\t\\t\\t\\t\\t\\t\\n\\t\\t\\t\\t\\t\\t\\t\\t\\t\\t\\t\\t\\t\\t\\n\\t\\t\\t\\t\\t\\t\\t\\t\\t\\n\\t\\t\\t\\t<div class=\"ubox ubox100 ubox100_width4\" > \\n\\t\\t\\t\\t\\t\\t\\t\\t\\t\\t\\t\\t\\t\\t\\t\\t\\t\\t\\t\\t\\t\\t\\t\\t\\t\\t\\t\\t<div class=\"mbox_bildblock\"> \\n\\t\\t\\t\\t\\t\\t\\t\\t\\t\\t\\t\\t\\t\\t\\t\\t<img title=\"\" src=\"/eit_media/Bilder/Pr%C3%BCfungsamt/Header+_+Pr%C3%BCfungsaussch%C3%BCsse/Pr%C3%BCfungsaussch%C3%BCsse+PO+vor+dem+29_06_2016-height-140-width-980-p-6008.png\" >\\n\\t\\t\\t\\t\\n\\t\\t\\t\\t\\t\\t\\t\\t\\t\\t\\t\\t\\t\\t\\t\\t\\t\\t\\t\\t\\t\\t\\t\\t\\t\\t\\t\\t\\t\\t\\t\\t\\t\\t\\t<div class=\"mbox_bildblock_layer mbox_bildblock_layer_farbe\">\\n\\t\\t\\t\\t\\t\\t\\t\\t\\t\\t\\t\\t\\t\\t\\t\\t\\t\\t\\t\\t\\t\\t\\t\\t\\t<div class=\"mbox_bildblock_layer_text\">\\n\\t\\t\\t\\t\\t\\t\\t\\t\\t\\tETIT and WETIT (Bachelor - Examination Regulation before the 29 June 2016), Information Technology (Diploma)\\n\\t\\t\\t\\t\\t\\t\\t\\t\\t</div>\\n\\t\\t\\t\\t\\t\\t\\t\\t\\t\\t\\t\\t\\t\\t\\t</div>\\n\\t\\t\\t\\t\\t\\t\\t\\t\\t\\t\\t\\t\\t\\t\\t</div>\\n\\t\\t\\t\\t\\t\\t\\t\\t\\t\\t\\t\\t\\t\\t\\t\\t\\t\\t\\t\\t\\t\\t\\t\\t\\t\\t<div class=\"ubox_linkblock \"  style=\"min-height: autorem\">\\n\\t\\t\\t\\t\\t\\t\\t\\t\\t\\t\\t\\t\\t\\t\\t\\t\\t\\t\\t\\t\\t\\t\\t\\t\\t\\t\\t\\t\\t\\t\\t<div class=\"ubox_kurzinfo\"><p><strong><span style=\"color: #000000;\">Chairman:</span></strong> <br />Prof. Dr.-Ing. R. Leidhold | Tel.: 0391-67-58595 | <a class=\"mailto\" onclick=\"sendEmail(\\'roberto.leidhold\\', \\'ovgu\\', \\'de\\', \\'\\'); return false;\" onmouseout=\"status=\\'\\'; return true;\" onmouseover=\"setEmailStatus(\\'roberto.leidhold\\', \\'ovgu\\', \\'de\\'); return true;\" href=\"javascript:sendEmail(\\'roberto.leidhold\\', \\'ovgu\\', \\'de\\', \\'\\')\">E-Mail</a></p>\\r\\n<p><strong><span style=\"color: #000000;\">Vice-chairman:</span></strong> <br />Prof. Dr.-Ing. habil. M. Wolter | Tel.: 0391-67-57012 | <a class=\"mailto\" onclick=\"sendEmail(\\'martin.wolter\\', \\'ovgu\\', \\'de\\', \\'\\'); return false;\" onmouseout=\"status=\\'\\'; return true;\" onmouseover=\"setEmailStatus(\\'martin.wolter\\', \\'ovgu\\', \\'de\\'); return true;\" href=\"javascript:sendEmail(\\'martin.wolter\\', \\'ovgu\\', \\'de\\', \\'\\')\">E-Mail</a></p>\\r\\n<p><strong><span style=\"color: #000000;\">Members:</span></strong><br />Prof. Dr.-Ing. T. Pionteck, Prof. Dr-Ing. C. Diedrich, Dr. sc. techn. ETH E. Bullinger, PD Dr.-Ing. A. J\\xc3\\xb6stingmeier, K. Bredenfeld&nbsp; (student)</p> </div>\\n\\t\\t\\t\\t\\t\\t\\t\\t\\t\\t\\t\\t\\t\\t\\t\\t\\t\\t\\n\\t\\t\\t\\t\\t\\t\\t\\t\\t\\t\\t\\t\\t\\t\\t\\t\\t\\t\\t\\t\\t\\n\\t\\t\\t\\t\\t\\t\\t\\t\\t\\t\\t\\t\\t</div>\\n\\t\\t\\n\\t\\t\\t\\t\\t\\t\\t\\t\\t\\n\\t\\t\\t\\t\\t\\t\\t\\t\\t\\t\\t\\t\\t\\t\\t\\t\\t\\t\\t\\t\\t\\t\\n\\t\\t</div>\\n\\t\\t\\t\\t\\t \\n\\t\\t\\t\\t\\t\\t\\t\\t\\t\\t\\t\\t\\t\\n\\t\\t\\t\\t\\t\\t\\t\\t\\t\\t\\t\\t\\t\\t\\t\\t\\n\\t\\t\\t\\t\\t\\t\\t\\t\\t\\t\\n\\t\\t\\t\\t\\t\\t\\t\\t\\t\\t\\t\\t\\t\\t\\n\\t\\t\\t\\t\\t\\t\\t\\t\\t\\n\\t\\t\\t\\t<div class=\"ubox ubox100 ubox100_width4\" > \\n\\t\\t\\t\\t\\t\\t\\t\\t\\t\\t\\t\\t\\t\\t\\t\\t\\t\\t\\t\\t\\t\\t\\t\\t\\t\\t\\t\\t<div class=\"mbox_bildblock\"> \\n\\t\\t\\t\\t\\t\\t\\t\\t\\t\\t\\t\\t\\t\\t\\t\\t<img title=\"\" src=\"/eit_media/Bilder/Pr%C3%BCfungsamt/Header+_+Pr%C3%BCfungsaussch%C3%BCsse/Pr%C3%BCfungsaussch%C3%BCsse+PO+nach+dem+29_06_2016-height-140-width-980-p-6006.png\" >\\n\\t\\t\\t\\t\\n\\t\\t\\t\\t\\t\\t\\t\\t\\t\\t\\t\\t\\t\\t\\t\\t\\t\\t\\t\\t\\t\\t\\t\\t\\t\\t\\t\\t\\t\\t\\t\\t\\t\\t\\t<div class=\"mbox_bildblock_layer mbox_bildblock_layer_farbe\">\\n\\t\\t\\t\\t\\t\\t\\t\\t\\t\\t\\t\\t\\t\\t\\t\\t\\t\\t\\t\\t\\t\\t\\t\\t\\t<div class=\"mbox_bildblock_layer_text\">\\n\\t\\t\\t\\t\\t\\t\\t\\t\\t\\tETIT and WETIT (Bachelor and Master - Examination Regulation as from 29 June 2016), EERE and EEIT\\n\\t\\t\\t\\t\\t\\t\\t\\t\\t</div>\\n\\t\\t\\t\\t\\t\\t\\t\\t\\t\\t\\t\\t\\t\\t\\t</div>\\n\\t\\t\\t\\t\\t\\t\\t\\t\\t\\t\\t\\t\\t\\t\\t</div>\\n\\t\\t\\t\\t\\t\\t\\t\\t\\t\\t\\t\\t\\t\\t\\t\\t\\t\\t\\t\\t\\t\\t\\t\\t\\t\\t<div class=\"ubox_linkblock \"  style=\"min-height: autorem\">\\n\\t\\t\\t\\t\\t\\t\\t\\t\\t\\t\\t\\t\\t\\t\\t\\t\\t\\t\\t\\t\\t\\t\\t\\t\\t\\t\\t\\t\\t\\t\\t<div class=\"ubox_kurzinfo\"><p><strong><span style=\"color: #000000;\">Chairman:<br /></span></strong>Prof. Dr.-Ing. R. Leidhold | Tel.: 0391-67-58595 | <a class=\"mailto\" onclick=\"sendEmail(\\'roberto.leidhold\\', \\'ovgu\\', \\'de\\', \\'\\'); return false;\" onmouseout=\"status=\\'\\'; return true;\" onmouseover=\"setEmailStatus(\\'roberto.leidhold\\', \\'ovgu\\', \\'de\\'); return true;\" href=\"javascript:sendEmail(\\'roberto.leidhold\\', \\'ovgu\\', \\'de\\', \\'\\')\">E-Mail</a></p>\\r\\n<p><strong><span style=\"color: #000000;\">Vice-Chairman:</span></strong>&nbsp;<br />Prof. Dr.-Ing. habil. M. Wolter | Tel.: 0391-67-57012 | <a class=\"mailto\" onclick=\"sendEmail(\\'martin.wolter\\', \\'ovgu\\', \\'de\\', \\'\\'); return false;\" onmouseout=\"status=\\'\\'; return true;\" onmouseover=\"setEmailStatus(\\'martin.wolter\\', \\'ovgu\\', \\'de\\'); return true;\" href=\"javascript:sendEmail(\\'martin.wolter\\', \\'ovgu\\', \\'de\\', \\'\\')\">E-Mail</a></p>\\r\\n<p><strong><span style=\"color: #000000;\">Members:</span></strong> <br />Prof. Dr.-Ing. C. Diedrich, Dr. sc. techn. ETH E. Bullinger, Alisa Noll (student)</p> </div>\\n\\t\\t\\t\\t\\t\\t\\t\\t\\t\\t\\t\\t\\t\\t\\t\\t\\t\\t\\n\\t\\t\\t\\t\\t\\t\\t\\t\\t\\t\\t\\t\\t\\t\\t\\t\\t\\t\\t\\t\\t\\n\\t\\t\\t\\t\\t\\t\\t\\t\\t\\t\\t\\t\\t</div>\\n\\t\\t\\n\\t\\t\\t\\t\\t\\t\\t\\t\\t\\n\\t\\t\\t\\t\\t\\t\\t\\t\\t\\t\\t\\t\\t\\t\\t\\t\\t\\t\\t\\t\\t\\t\\n\\t\\t</div>\\n\\t\\t\\t\\t\\t \\n\\t\\t\\t\\t\\t\\t\\t\\t\\t\\t\\t\\t\\t\\n\\t\\t\\t\\t\\t\\t\\t\\t\\t\\t\\t\\t\\t\\t\\t\\t\\n\\t\\t\\t\\t\\t\\t\\t\\t\\t\\t\\n\\t\\t\\t\\t\\t\\t\\t\\t\\t\\t\\t\\t\\t\\t\\n\\t\\t\\t\\t\\t\\t\\t\\t\\t\\n\\t\\t\\t\\t<div class=\"ubox ubox100 ubox100_width2\" > \\n\\t\\t\\t\\t\\t\\t\\t\\t\\t\\t\\t\\t\\t\\t\\t\\t\\t\\t\\t\\t\\t\\t\\t\\t\\t\\t\\t\\t<div class=\"mbox_bildblock\"> \\n\\t\\t\\t\\t\\t\\t\\t\\t\\t\\t\\t\\t\\t\\t\\t\\t<img title=\"\" src=\"/eit_media/Bilder/Pr%C3%BCfungsamt/Header+_+Pr%C3%BCfungsaussch%C3%BCsse/Header_Pr%C3%BCfungsausschuss+Biosystemtechnik-height-140-width-480.png\" >\\n\\t\\t\\t\\t\\n\\t\\t\\t\\t\\t\\t\\t\\t\\t\\t\\t\\t\\t\\t\\t\\t\\t\\t\\t\\t\\t\\t\\t\\t\\t\\t\\t\\t\\t\\t\\t\\t\\t\\t\\t<div class=\"mbox_bildblock_layer mbox_bildblock_layer_farbe\">\\n\\t\\t\\t\\t\\t\\t\\t\\t\\t\\t\\t\\t\\t\\t\\t\\t\\t\\t\\t\\t\\t\\t\\t\\t\\t<div class=\"mbox_bildblock_layer_text\">\\n\\t\\t\\t\\t\\t\\t\\t\\t\\t\\tBiosystems Engineering\\n\\t\\t\\t\\t\\t\\t\\t\\t\\t</div>\\n\\t\\t\\t\\t\\t\\t\\t\\t\\t\\t\\t\\t\\t\\t\\t</div>\\n\\t\\t\\t\\t\\t\\t\\t\\t\\t\\t\\t\\t\\t\\t\\t</div>\\n\\t\\t\\t\\t\\t\\t\\t\\t\\t\\t\\t\\t\\t\\t\\t\\t\\t\\t\\t\\t\\t\\t\\t\\t\\t\\t<div class=\"ubox_linkblock \"  style=\"min-height: autorem\">\\n\\t\\t\\t\\t\\t\\t\\t\\t\\t\\t\\t\\t\\t\\t\\t\\t\\t\\t\\t\\t\\t\\t\\t\\t\\t\\t\\t\\t\\t\\t\\t<div class=\"ubox_kurzinfo\"><p><strong><span style=\"color: #000000;\">Chairman:</span></strong><br />Prof. Dr.-Ing. Udo Reichl (FVST)</p>\\r\\n<p><strong><span style=\"color: #000000;\">Vice-Chairman:</span></strong> <br />Prof. Dr.-Ing. habil. A. Kienle | Tel.: 0391-67-58523 | <a class=\"mailto\" onclick=\"sendEmail(\\'achim.kienle\\', \\'ovgu\\', \\'de\\', \\'\\'); return false;\" onmouseout=\"status=\\'\\'; return true;\" onmouseover=\"setEmailStatus(\\'achim.kienle\\', \\'ovgu\\', \\'de\\'); return true;\" href=\"javascript:sendEmail(\\'achim.kienle\\', \\'ovgu\\', \\'de\\', \\'\\')\">E-Mail</a></p>\\r\\n<p><strong><span style=\"color: #000000;\">Members:</span></strong><br />WiMi N.N. (FVST), N. Mehwald (student FVST)</p> </div>\\n\\t\\t\\t\\t\\t\\t\\t\\t\\t\\t\\t\\t\\t\\t\\t\\t\\t\\t\\n\\t\\t\\t\\t\\t\\t\\t\\t\\t\\t\\t\\t\\t\\t\\t\\t\\t\\t\\t\\t\\t\\n\\t\\t\\t\\t\\t\\t\\t\\t\\t\\t\\t\\t\\t</div>\\n\\t\\t\\n\\t\\t\\t\\t\\t\\t\\t\\t\\t\\n\\t\\t\\t\\t\\t\\t\\t\\t\\t\\t\\t\\t\\t\\t\\t\\t\\t\\t\\t\\t\\t\\t\\n\\t\\t</div>\\n\\t\\t\\t\\t\\t \\n\\t\\t\\t\\t\\t\\t\\t\\t\\t\\t\\t\\t\\t\\n\\t\\t\\t\\t\\t\\t\\t\\t\\t\\t\\t\\t\\t\\t\\t\\t\\n\\t\\t\\t\\t\\t\\t\\t\\t\\t\\t\\n\\t\\t\\t\\t\\t\\t\\t\\t\\t\\t\\t\\t\\t\\t\\n\\t\\t\\t\\t\\t\\t\\t\\t\\t\\n\\t\\t\\t\\t<div class=\"ubox ubox100 ubox100_width2\" > \\n\\t\\t\\t\\t\\t\\t\\t\\t\\t\\t\\t\\t\\t\\t\\t\\t\\t\\t\\t\\t\\t\\t\\t\\t\\t\\t\\t\\t<div class=\"mbox_bildblock\"> \\n\\t\\t\\t\\t\\t\\t\\t\\t\\t\\t\\t\\t\\t\\t\\t\\t<img title=\"\" src=\"/eit_media/Bilder/Pr%C3%BCfungsamt/Header+_+Pr%C3%BCfungsaussch%C3%BCsse/Header_Pr%C3%BCfungsausschuss+Elektromobilit%C3%A4t-height-140-width-480.png\" >\\n\\t\\t\\t\\t\\n\\t\\t\\t\\t\\t\\t\\t\\t\\t\\t\\t\\t\\t\\t\\t\\t\\t\\t\\t\\t\\t\\t\\t\\t\\t\\t\\t\\t\\t\\t\\t\\t\\t\\t\\t<div class=\"mbox_bildblock_layer mbox_bildblock_layer_farbe\">\\n\\t\\t\\t\\t\\t\\t\\t\\t\\t\\t\\t\\t\\t\\t\\t\\t\\t\\t\\t\\t\\t\\t\\t\\t\\t<div class=\"mbox_bildblock_layer_text\">\\n\\t\\t\\t\\t\\t\\t\\t\\t\\t\\tElectromobility (Bachelor)\\n\\t\\t\\t\\t\\t\\t\\t\\t\\t</div>\\n\\t\\t\\t\\t\\t\\t\\t\\t\\t\\t\\t\\t\\t\\t\\t</div>\\n\\t\\t\\t\\t\\t\\t\\t\\t\\t\\t\\t\\t\\t\\t\\t</div>\\n\\t\\t\\t\\t\\t\\t\\t\\t\\t\\t\\t\\t\\t\\t\\t\\t\\t\\t\\t\\t\\t\\t\\t\\t\\t\\t<div class=\"ubox_linkblock \"  style=\"min-height: autorem\">\\n\\t\\t\\t\\t\\t\\t\\t\\t\\t\\t\\t\\t\\t\\t\\t\\t\\t\\t\\t\\t\\t\\t\\t\\t\\t\\t\\t\\t\\t\\t\\t<div class=\"ubox_kurzinfo\"><p><strong><span style=\"color: #000000;\">Chairman:</span></strong><br />Prof. Dr.-Ing. R. Leidhold | Tel.: 0391-67-58595 | <a class=\"mailto\" onclick=\"sendEmail(\\'roberto.leidhold\\', \\'ovgu\\', \\'de\\', \\'\\'); return false;\" onmouseout=\"status=\\'\\'; return true;\" onmouseover=\"setEmailStatus(\\'roberto.leidhold\\', \\'ovgu\\', \\'de\\'); return true;\" href=\"javascript:sendEmail(\\'roberto.leidhold\\', \\'ovgu\\', \\'de\\', \\'\\')\">E-Mail</a></p>\\r\\n<p><strong><span style=\"color: #000000;\">Vice-Chairman:</span></strong><br />Prof. Dr.-Ing. D. Juhre (FMB)</p>\\r\\n<p><strong><span style=\"color: #000000;\">Members:</span></strong><br />Prof. Dr.-Ing. R. Vick, Priv.-Doz. Dr.-Ing. St. Schmidt (FMB), L. H\\xc3\\xbcsgen (Student)</p> </div>\\n\\t\\t\\t\\t\\t\\t\\t\\t\\t\\t\\t\\t\\t\\t\\t\\t\\t\\t\\n\\t\\t\\t\\t\\t\\t\\t\\t\\t\\t\\t\\t\\t\\t\\t\\t\\t\\t\\t\\t\\t\\n\\t\\t\\t\\t\\t\\t\\t\\t\\t\\t\\t\\t\\t</div>\\n\\t\\t\\n\\t\\t\\t\\t\\t\\t\\t\\t\\t\\n\\t\\t\\t\\t\\t\\t\\t\\t\\t\\t\\t\\t\\t\\t\\t\\t\\t\\t\\t\\t\\t\\t\\n\\t\\t</div>\\n\\t\\t\\t\\t\\t \\n\\t\\t\\t\\t\\t\\t\\t\\t\\t\\t\\t\\t\\t\\n\\t\\t\\t\\t\\t\\t\\t\\t\\t\\t\\t\\t\\t\\t\\t\\t\\n\\t\\t\\t\\t\\t\\t\\t\\t\\t\\t\\n\\t\\t\\t\\t\\t\\t\\t\\t\\t\\t\\t\\t\\t\\t\\n\\t\\t\\t\\t\\t\\t\\t\\t\\t\\n\\t\\t\\t\\t<div class=\"ubox ubox100 ubox100_width2\" > \\n\\t\\t\\t\\t\\t\\t\\t\\t\\t\\t\\t\\t\\t\\t\\t\\t\\t\\t\\t\\t\\t\\t\\t\\t\\t\\t\\t\\t<div class=\"mbox_bildblock\"> \\n\\t\\t\\t\\t\\t\\t\\t\\t\\t\\t\\t\\t\\t\\t\\t\\t<img title=\"\" src=\"/eit_media/Bilder/Pr%C3%BCfungsamt/Header+_+Pr%C3%BCfungsaussch%C3%BCsse/Header_Pr%C3%BCfungsausschuss+Elektromobilit%C3%A4t+2-height-140-width-480.png\" >\\n\\t\\t\\t\\t\\n\\t\\t\\t\\t\\t\\t\\t\\t\\t\\t\\t\\t\\t\\t\\t\\t\\t\\t\\t\\t\\t\\t\\t\\t\\t\\t\\t\\t\\t\\t\\t\\t\\t\\t\\t<div class=\"mbox_bildblock_layer mbox_bildblock_layer_farbe\">\\n\\t\\t\\t\\t\\t\\t\\t\\t\\t\\t\\t\\t\\t\\t\\t\\t\\t\\t\\t\\t\\t\\t\\t\\t\\t<div class=\"mbox_bildblock_layer_text\">\\n\\t\\t\\t\\t\\t\\t\\t\\t\\t\\tElectromobility (Master)\\n\\t\\t\\t\\t\\t\\t\\t\\t\\t</div>\\n\\t\\t\\t\\t\\t\\t\\t\\t\\t\\t\\t\\t\\t\\t\\t</div>\\n\\t\\t\\t\\t\\t\\t\\t\\t\\t\\t\\t\\t\\t\\t\\t</div>\\n\\t\\t\\t\\t\\t\\t\\t\\t\\t\\t\\t\\t\\t\\t\\t\\t\\t\\t\\t\\t\\t\\t\\t\\t\\t\\t<div class=\"ubox_linkblock \"  style=\"min-height: autorem\">\\n\\t\\t\\t\\t\\t\\t\\t\\t\\t\\t\\t\\t\\t\\t\\t\\t\\t\\t\\t\\t\\t\\t\\t\\t\\t\\t\\t\\t\\t\\t\\t<div class=\"ubox_kurzinfo\"><p><strong><span style=\"color: #000000;\">Chairman:</span></strong><br />Prof. Dr.-Ing. D. Juhre (FMB)</p>\\r\\n<p><strong><span style=\"color: #000000;\">Vize-chairman:</span></strong><br />Prof. Dr.-Ing. R. Leidhold | Tel.: 0391-67-58595 | <a class=\"mailto\" onclick=\"sendEmail(\\'roberto.leidhold\\', \\'ovgu\\', \\'de\\', \\'\\'); return false;\" onmouseout=\"status=\\'\\'; return true;\" onmouseover=\"setEmailStatus(\\'roberto.leidhold\\', \\'ovgu\\', \\'de\\'); return true;\" href=\"javascript:sendEmail(\\'roberto.leidhold\\', \\'ovgu\\', \\'de\\', \\'\\')\">E-Mail</a></p>\\r\\n<p><strong><span style=\"color: #000000;\">Members:</span></strong><br />Priv.-Doz. Dr.-Ing. St. Schmidt (FMB), Dr.-Ing. T. Schallschmidt, A. Timpter (Student FMB)</p> </div>\\n\\t\\t\\t\\t\\t\\t\\t\\t\\t\\t\\t\\t\\t\\t\\t\\t\\t\\t\\n\\t\\t\\t\\t\\t\\t\\t\\t\\t\\t\\t\\t\\t\\t\\t\\t\\t\\t\\t\\t\\t\\n\\t\\t\\t\\t\\t\\t\\t\\t\\t\\t\\t\\t\\t</div>\\n\\t\\t\\n\\t\\t\\t\\t\\t\\t\\t\\t\\t\\n\\t\\t\\t\\t\\t\\t\\t\\t\\t\\t\\t\\t\\t\\t\\t\\t\\t\\t\\t\\t\\t\\t\\n\\t\\t</div>\\n\\t\\t\\t\\t\\t \\n\\t\\t\\t\\t\\t\\t\\t\\t\\t\\t\\t\\t\\t\\n\\t\\t\\t\\t\\t\\t\\t\\t\\t\\t\\t\\t\\t\\t\\t\\t\\n\\t\\t\\t\\t\\t\\t\\t\\t\\t\\t\\n\\t\\t\\t\\t\\t\\t\\t\\t\\t\\t\\t\\t\\t\\t\\n\\t\\t\\t\\t\\t\\t\\t\\t\\t\\n\\t\\t\\t\\t<div class=\"ubox ubox100 ubox100_width2\" > \\n\\t\\t\\t\\t\\t\\t\\t\\t\\t\\t\\t\\t\\t\\t\\t\\t\\t\\t\\t\\t\\t\\t\\t\\t\\t\\t\\t\\t<div class=\"mbox_bildblock\"> \\n\\t\\t\\t\\t\\t\\t\\t\\t\\t\\t\\t\\t\\t\\t\\t\\t<img title=\"\" src=\"/eit_media/Bilder/Pr%C3%BCfungsamt/Header+_+Pr%C3%BCfungsaussch%C3%BCsse/Header_Pr%C3%BCfungsausschuss+Informationstechnik_Smarte+Systeme-height-140-width-480-p-5994.png\" >\\n\\t\\t\\t\\t\\n\\t\\t\\t\\t\\t\\t\\t\\t\\t\\t\\t\\t\\t\\t\\t\\t\\t\\t\\t\\t\\t\\t\\t\\t\\t\\t\\t\\t\\t\\t\\t\\t\\t\\t\\t<div class=\"mbox_bildblock_layer mbox_bildblock_layer_farbe\">\\n\\t\\t\\t\\t\\t\\t\\t\\t\\t\\t\\t\\t\\t\\t\\t\\t\\t\\t\\t\\t\\t\\t\\t\\t\\t<div class=\"mbox_bildblock_layer_text\">\\n\\t\\t\\t\\t\\t\\t\\t\\t\\t\\tInformation Technology - Smart Systems\\n\\t\\t\\t\\t\\t\\t\\t\\t\\t</div>\\n\\t\\t\\t\\t\\t\\t\\t\\t\\t\\t\\t\\t\\t\\t\\t</div>\\n\\t\\t\\t\\t\\t\\t\\t\\t\\t\\t\\t\\t\\t\\t\\t</div>\\n\\t\\t\\t\\t\\t\\t\\t\\t\\t\\t\\t\\t\\t\\t\\t\\t\\t\\t\\t\\t\\t\\t\\t\\t\\t\\t<div class=\"ubox_linkblock \"  style=\"min-height: autorem\">\\n\\t\\t\\t\\t\\t\\t\\t\\t\\t\\t\\t\\t\\t\\t\\t\\t\\t\\t\\t\\t\\t\\t\\t\\t\\t\\t\\t\\t\\t\\t\\t<div class=\"ubox_kurzinfo\"><p><strong><span style=\"color: #000000;\">Chairman:</span></strong> <br />Prof. Dr. rer. nat. A. Wendemuth | Tel.: 0391-67-58448 | <a class=\"mailto\" onclick=\"sendEmail(\\'andreas.wendemuth\\', \\'ovgu\\', \\'de\\', \\'\\'); return false;\" onmouseout=\"status=\\'\\'; return true;\" onmouseover=\"setEmailStatus(\\'andreas.wendemuth\\', \\'ovgu\\', \\'de\\'); return true;\" href=\"javascript:sendEmail(\\'andreas.wendemuth\\', \\'ovgu\\', \\'de\\', \\'\\')\">E-Mail</a></p>\\r\\n<p><strong><span style=\"color: #000000;\">Vice-Chairman:</span></strong> <br />Prof. Dr.-Ing. Y. Ding (HS MD)</p>\\r\\n<p><strong><span style=\"color: #000000;\">Members:</span></strong> <br />Prof. Dr.-Ing. C. Diedrich, Prof. Dr.-Ing. J. Auge (HS MD), Dr.-Ing. G. Krell, <br />Mrs. Dr.-Ing. C. Breitschuh (HS MD), J. Bredner (student)</p> </div>\\n\\t\\t\\t\\t\\t\\t\\t\\t\\t\\t\\t\\t\\t\\t\\t\\t\\t\\t\\n\\t\\t\\t\\t\\t\\t\\t\\t\\t\\t\\t\\t\\t\\t\\t\\t\\t\\t\\t\\t\\t\\n\\t\\t\\t\\t\\t\\t\\t\\t\\t\\t\\t\\t\\t</div>\\n\\t\\t\\n\\t\\t\\t\\t\\t\\t\\t\\t\\t\\n\\t\\t\\t\\t\\t\\t\\t\\t\\t\\t\\t\\t\\t\\t\\t\\t\\t\\t\\t\\t\\t\\t\\n\\t\\t</div>\\n\\t\\t\\t\\t\\t \\n\\t\\t\\t\\t\\t\\t\\t\\t\\t\\t\\t\\t\\t\\n\\t\\t\\t\\t\\t\\t\\t\\t\\t\\t\\t\\t\\t\\t\\t\\t\\n\\t\\t\\t\\t\\t\\t\\t\\t\\t\\t\\n\\t\\t\\t\\t\\t\\t\\t\\t\\t\\t\\t\\t\\t\\t\\n\\t\\t\\t\\t\\t\\t\\t\\t\\t\\n\\t\\t\\t\\t<div class=\"ubox ubox100 ubox100_width2\" > \\n\\t\\t\\t\\t\\t\\t\\t\\t\\t\\t\\t\\t\\t\\t\\t\\t\\t\\t\\t\\t\\t\\t\\t\\t\\t\\t\\t\\t<div class=\"mbox_bildblock\"> \\n\\t\\t\\t\\t\\t\\t\\t\\t\\t\\t\\t\\t\\t\\t\\t\\t<img title=\"\" src=\"/eit_media/Bilder/Pr%C3%BCfungsamt/Header+_+Pr%C3%BCfungsaussch%C3%BCsse/Header_Pr%C3%BCfungsausschuss+Mathematikingenieur-height-140-width-480.png\" >\\n\\t\\t\\t\\t\\n\\t\\t\\t\\t\\t\\t\\t\\t\\t\\t\\t\\t\\t\\t\\t\\t\\t\\t\\t\\t<div class=\"mbox_bildblock_layer mbox_bildblock_layer_farbe\">\\n\\t\\t\\t\\t\\t\\t\\t\\t\\t\\t\\t\\t\\t\\t\\t\\t\\t\\t\\t\\t\\t\\t\\t\\t\\t<div class=\"mbox_bildblock_layer_text\">\\n\\t\\t\\t\\t\\t\\t\\t\\t\\t\\tMathematical Engineering (Bachelor)\\n\\t\\t\\t\\t\\t\\t\\t\\t\\t</div>\\n\\t\\t\\t\\t\\t\\t\\t\\t\\t\\t\\t\\t\\t\\t\\t</div>\\n\\t\\t\\t\\t\\t\\t\\t\\t\\t\\t\\t\\t\\t\\t\\t</div>\\n\\t\\t\\t\\t\\t\\t\\t\\t\\t\\t\\t\\t\\t\\t\\t\\t\\t\\t\\t\\t\\t\\t\\t\\t\\t\\t<div class=\"ubox_linkblock \"  style=\"min-height: autorem\">\\n\\t\\t\\t\\t\\t\\t\\t\\t\\t\\t\\t\\t\\t\\t\\t\\t\\t\\t\\t\\t\\t\\t\\t\\t\\t\\t\\t\\t\\t\\t\\t<div class=\"ubox_kurzinfo\"><p><strong><span style=\"color: #000000;\">Chairman:</span></strong> <br />Prof. Dr. T. Richter (FMATH)</p>\\r\\n<p><strong><span style=\"color: #000000;\">Vize-chairman:&nbsp;</span></strong> <br />Prof. Dr. V. Kaibel (FMATH)</p>\\r\\n<p><strong><span style=\"color: #000000;\">Members:</span></strong> <br />Prof. Dr.-Ing. R. Findeisen, Jun.-Prof. Dr. J. Heiland (FMATH), Prof. Dr.-Ing. D. Juhre (FMB), Dr. rer. nat. A. Voigt (FVST), F. Horn (Student)</p> </div>\\n\\t\\t\\t\\t\\t\\t\\t\\t\\t\\t\\t\\t\\t\\t\\t\\t\\t\\t\\n\\t\\t\\t\\t\\t\\t\\t\\t\\t\\t\\t\\t\\t\\t\\t\\t\\t\\t\\t\\t\\t\\n\\t\\t\\t\\t\\t\\t\\t\\t\\t\\t\\t\\t\\t</div>\\n\\t\\t\\n\\t\\t\\t\\t\\t\\t\\t\\t\\t\\n\\t\\t\\t\\t\\t\\t\\t\\t\\t\\t\\t\\t\\t\\t\\t\\t\\t\\t\\t\\t\\t\\t\\n\\t\\t</div>\\n\\t\\t\\t\\t\\t \\n\\t\\t\\t\\t\\t\\t\\t\\t\\t\\t\\t\\t\\t\\n\\t\\t\\t\\t\\t\\t\\t\\t\\t\\t\\t\\t\\t\\t\\t\\t\\n\\t\\t\\t\\t\\t\\t\\t\\t\\t\\t\\n\\t\\t\\t\\t\\t\\t\\t\\t\\t\\t\\t\\t\\t\\t\\n\\t\\t\\t\\t\\t\\t\\t\\t\\t\\n\\t\\t\\t\\t<div class=\"ubox ubox100 ubox100_width2\" > \\n\\t\\t\\t\\t\\t\\t\\t\\t\\t\\t\\t\\t\\t\\t\\t\\t\\t\\t\\t\\t\\t\\t\\t\\t\\t\\t\\t\\t<div class=\"mbox_bildblock\"> \\n\\t\\t\\t\\t\\t\\t\\t\\t\\t\\t\\t\\t\\t\\t\\t\\t<img title=\"\" src=\"/eit_media/Bilder/Pr%C3%BCfungsamt/Header+_+Pr%C3%BCfungsaussch%C3%BCsse/Header_Pr%C3%BCfungsausschuss+Mechatronik-height-140-width-480.png\" >\\n\\t\\t\\t\\t\\n\\t\\t\\t\\t\\t\\t\\t\\t\\t\\t\\t\\t\\t\\t\\t\\t\\t\\t\\t\\t<div class=\"mbox_bildblock_layer mbox_bildblock_layer_farbe\">\\n\\t\\t\\t\\t\\t\\t\\t\\t\\t\\t\\t\\t\\t\\t\\t\\t\\t\\t\\t\\t\\t\\t\\t\\t\\t<div class=\"mbox_bildblock_layer_text\">\\n\\t\\t\\t\\t\\t\\t\\t\\t\\t\\tMechatronics (Master, SPO before 03 February 2016)\\n\\t\\t\\t\\t\\t\\t\\t\\t\\t</div>\\n\\t\\t\\t\\t\\t\\t\\t\\t\\t\\t\\t\\t\\t\\t\\t</div>\\n\\t\\t\\t\\t\\t\\t\\t\\t\\t\\t\\t\\t\\t\\t\\t</div>\\n\\t\\t\\t\\t\\t\\t\\t\\t\\t\\t\\t\\t\\t\\t\\t\\t\\t\\t\\t\\t\\t\\t\\t\\t\\t\\t<div class=\"ubox_linkblock \"  style=\"min-height: autorem\">\\n\\t\\t\\t\\t\\t\\t\\t\\t\\t\\t\\t\\t\\t\\t\\t\\t\\t\\t\\t\\t\\t\\t\\t\\t\\t\\t\\t\\t\\t\\t\\t<div class=\"ubox_kurzinfo\"><p><strong><span style=\"color: #000000;\">Chairman:</span></strong> <br />Prof. Dr.-Ing. R. Leidhold | Tel.: 0391-67-58595 | <a class=\"mailto\" onclick=\"sendEmail(\\'roberto.leidhold\\', \\'ovgu\\', \\'de\\', \\'\\'); return false;\" onmouseout=\"status=\\'\\'; return true;\" onmouseover=\"setEmailStatus(\\'roberto.leidhold\\', \\'ovgu\\', \\'de\\'); return true;\" href=\"javascript:sendEmail(\\'roberto.leidhold\\', \\'ovgu\\', \\'de\\', \\'\\')\">E-Mail</a></p>\\r\\n<p><strong><span style=\"color: #000000;\">Vice-chairman:</span></strong> <br />Prof. Dr.-Ing. D. Juhre (FMB)</p>\\r\\n<p><strong><span style=\"color: #000000;\">Members:</span></strong> <br />Prof. Dr.-Ing. A. Lindemann, Dr.-Ing. M. Sch\\xc3\\xbcnemann (FMB), T. Gr\\xc3\\xa4ber (Student)</p> </div>\\n\\t\\t\\t\\t\\t\\t\\t\\t\\t\\t\\t\\t\\t\\t\\t\\t\\t\\t\\n\\t\\t\\t\\t\\t\\t\\t\\t\\t\\t\\t\\t\\t\\t\\t\\t\\t\\t\\t\\t\\t\\n\\t\\t\\t\\t\\t\\t\\t\\t\\t\\t\\t\\t\\t</div>\\n\\t\\t\\n\\t\\t\\t\\t\\t\\t\\t\\t\\t\\n\\t\\t\\t\\t\\t\\t\\t\\t\\t\\t\\t\\t\\t\\t\\t\\t\\t\\t\\t\\t\\t\\t\\n\\t\\t</div>\\n\\t\\t\\t\\t\\t \\n\\t\\t\\t\\t\\t\\t\\t\\t\\t\\t\\t\\t\\t\\n\\t\\t\\t\\t\\t\\t\\t\\t\\t\\t\\t\\t\\t\\t\\t\\t\\n\\t\\t\\t\\t\\t\\t\\t\\t\\t\\t\\n\\t\\t\\t\\t\\t\\t\\t\\t\\t\\t\\t\\t\\t\\t\\n\\t\\t\\t\\t\\t\\t\\t\\t\\t\\n\\t\\t\\t\\t<div class=\"ubox ubox100 ubox100_width2\" > \\n\\t\\t\\t\\t\\t\\t\\t\\t\\t\\t\\t\\t\\t\\t\\t\\t\\t\\t\\t\\t\\t\\t\\t\\t\\t\\t\\t\\t<div class=\"mbox_bildblock\"> \\n\\t\\t\\t\\t\\t\\t\\t\\t\\t\\t\\t\\t\\t\\t\\t\\t<img title=\"\" src=\"/eit_media/Bilder/Pr%C3%BCfungsamt/Header+_+Pr%C3%BCfungsaussch%C3%BCsse/Header_Pr%C3%BCfungsausschuss+Mechatronik-height-140-width-480.png\" >\\n\\t\\t\\t\\t\\n\\t\\t\\t\\t\\t\\t\\t\\t\\t\\t\\t\\t\\t\\t\\t\\t\\t\\t\\t\\t\\t\\t\\t\\t\\t\\t\\t\\t\\t\\t\\t\\t\\t\\t\\t<div class=\"mbox_bildblock_layer mbox_bildblock_layer_farbe\">\\n\\t\\t\\t\\t\\t\\t\\t\\t\\t\\t\\t\\t\\t\\t\\t\\t\\t\\t\\t\\t\\t\\t\\t\\t\\t<div class=\"mbox_bildblock_layer_text\">\\n\\t\\t\\t\\t\\t\\t\\t\\t\\t\\tMechatronics (Bachelor and Master, SPO from 03 February 2016)\\n\\t\\t\\t\\t\\t\\t\\t\\t\\t</div>\\n\\t\\t\\t\\t\\t\\t\\t\\t\\t\\t\\t\\t\\t\\t\\t</div>\\n\\t\\t\\t\\t\\t\\t\\t\\t\\t\\t\\t\\t\\t\\t\\t</div>\\n\\t\\t\\t\\t\\t\\t\\t\\t\\t\\t\\t\\t\\t\\t\\t\\t\\t\\t\\t\\t\\t\\t\\t\\t\\t\\t<div class=\"ubox_linkblock \"  style=\"min-height: autorem\">\\n\\t\\t\\t\\t\\t\\t\\t\\t\\t\\t\\t\\t\\t\\t\\t\\t\\t\\t\\t\\t\\t\\t\\t\\t\\t\\t\\t\\t\\t\\t\\t<div class=\"ubox_kurzinfo\"><p><strong><span style=\"color: #000000;\">Chairman:</span></strong> <br />Prof. Dr.-Ing. R. Leidhold | Tel.: 0391-67-58595 | <a class=\"mailto\" onclick=\"sendEmail(\\'roberto.leidhold\\', \\'ovgu\\', \\'de\\', \\'\\'); return false;\" onmouseout=\"status=\\'\\'; return true;\" onmouseover=\"setEmailStatus(\\'roberto.leidhold\\', \\'ovgu\\', \\'de\\'); return true;\" href=\"javascript:sendEmail(\\'roberto.leidhold\\', \\'ovgu\\', \\'de\\', \\'\\')\">E-Mail</a></p>\\r\\n<p><strong><span style=\"color: #000000;\">Vice-Chairman:</span></strong> <br />Prof. Dr.-Ing. D. Juhre (FMB)</p>\\r\\n<p><strong><span style=\"color: #000000;\">Members:</span></strong> <br />Prof. Dr.-Ing. A. Lindemann, Priv.-Doz. St. Schmidt (FMB), Dr.-Ing. M. Sch\\xc3\\xbcnemann (FMB), Dr.-Ing. R. D\\xc3\\xb6bbelin, T. Gr\\xc3\\xa4ber (student)</p> </div>\\n\\t\\t\\t\\t\\t\\t\\t\\t\\t\\t\\t\\t\\t\\t\\t\\t\\t\\t\\n\\t\\t\\t\\t\\t\\t\\t\\t\\t\\t\\t\\t\\t\\t\\t\\t\\t\\t\\t\\t\\t\\n\\t\\t\\t\\t\\t\\t\\t\\t\\t\\t\\t\\t\\t</div>\\n\\t\\t\\n\\t\\t\\t\\t\\t\\t\\t\\t\\t\\n\\t\\t\\t\\t\\t\\t\\t\\t\\t\\t\\t\\t\\t\\t\\t\\t\\t\\t\\t\\t\\t\\t\\n\\t\\t</div>\\n\\t\\t\\t\\t\\t \\n\\t\\t\\t\\t\\t\\t\\t\\t\\t\\t\\t\\t\\t\\n\\t\\t\\t\\t\\t\\t\\t\\t\\t\\t\\t\\t\\t\\t\\t\\t\\n\\t\\t\\t\\t\\t\\t\\t\\t\\t\\t\\n\\t\\t\\t\\t\\t\\t\\t\\t\\t\\t\\t\\t\\t\\t\\n\\t\\t\\t\\t\\t\\t\\t\\t\\t\\n\\t\\t\\t\\t<div class=\"ubox ubox100 ubox100_width2\" > \\n\\t\\t\\t\\t\\t\\t\\t\\t\\t\\t\\t\\t\\t\\t\\t\\t\\t\\t\\t\\t\\t\\t\\t\\t\\t\\t\\t\\t<div class=\"mbox_bildblock\"> \\n\\t\\t\\t\\t\\t\\t\\t\\t\\t\\t\\t\\t\\t\\t\\t\\t<img title=\"\" src=\"/eit_media/Bilder/Pr%C3%BCfungsamt/Header+_+Pr%C3%BCfungsaussch%C3%BCsse/Header_Pr%C3%BCfungsausschuss+Medical+Systems+Engineering-height-140-width-480.png\" >\\n\\t\\t\\t\\t\\n\\t\\t\\t\\t\\t\\t\\t\\t\\t\\t\\t\\t\\t\\t\\t\\t\\t\\t\\t\\t\\t\\t\\t\\t\\t\\t\\t\\t\\t\\t\\t\\t\\t\\t\\t<div class=\"mbox_bildblock_layer mbox_bildblock_layer_farbe\">\\n\\t\\t\\t\\t\\t\\t\\t\\t\\t\\t\\t\\t\\t\\t\\t\\t\\t\\t\\t\\t\\t\\t\\t\\t\\t<div class=\"mbox_bildblock_layer_text\">\\n\\t\\t\\t\\t\\t\\t\\t\\t\\t\\tMedical Systems Engineering\\n\\t\\t\\t\\t\\t\\t\\t\\t\\t</div>\\n\\t\\t\\t\\t\\t\\t\\t\\t\\t\\t\\t\\t\\t\\t\\t</div>\\n\\t\\t\\t\\t\\t\\t\\t\\t\\t\\t\\t\\t\\t\\t\\t</div>\\n\\t\\t\\t\\t\\t\\t\\t\\t\\t\\t\\t\\t\\t\\t\\t\\t\\t\\t\\t\\t\\t\\t\\t\\t\\t\\t<div class=\"ubox_linkblock \"  style=\"min-height: autorem\">\\n\\t\\t\\t\\t\\t\\t\\t\\t\\t\\t\\t\\t\\t\\t\\t\\t\\t\\t\\t\\t\\t\\t\\t\\t\\t\\t\\t\\t\\t\\t\\t<div class=\"ubox_kurzinfo\"><p><strong><span style=\"color: #000000;\">Chairman:</span></strong> <br />Prof. Dr. rer. nat. G. Rose | Tel.: 0391-67-58862 | <a class=\"mailto\" onclick=\"sendEmail(\\'georg.rose\\', \\'ovgu\\', \\'de\\', \\'\\'); return false;\" onmouseout=\"status=\\'\\'; return true;\" onmouseover=\"setEmailStatus(\\'georg.rose\\', \\'ovgu\\', \\'de\\'); return true;\" href=\"javascript:sendEmail(\\'georg.rose\\', \\'ovgu\\', \\'de\\', \\'\\')\">E-Mail</a></p>\\r\\n<p><strong><span style=\"color: #000000;\">Vice-Chairman:</span></strong> <br />Prof. Dr. rer. nat. C. Hoeschen | Tel: 0391-67-58863 | <a class=\"mailto\" onclick=\"sendEmail(\\'Christoph.Hoeschen\\', \\'ovgu\\', \\'de\\', \\'\\'); return false;\" onmouseout=\"status=\\'\\'; return true;\" onmouseover=\"setEmailStatus(\\'Christoph.Hoeschen\\', \\'ovgu\\', \\'de\\'); return true;\" href=\"javascript:sendEmail(\\'Christoph.Hoeschen\\', \\'ovgu\\', \\'de\\', \\'\\')\">E-Mail</a></p>\\r\\n<p><strong><span style=\"color: #000000;\">Members:</span></strong> <br />Mrs. Prof. Dr.-Ing. U. Steinmann, Prof. Dr. rer. nat. habil. O. Speck (FNW), Prof. Dr.-Ing. habil. B. Preim (FIN), Mrs. M.Sc. J. Schreiter, A. Noll (student)</p> </div>\\n\\t\\t\\t\\t\\t\\t\\t\\t\\t\\t\\t\\t\\t\\t\\t\\t\\t\\t\\n\\t\\t\\t\\t\\t\\t\\t\\t\\t\\t\\t\\t\\t\\t\\t\\t\\t\\t\\t\\t\\t\\n\\t\\t\\t\\t\\t\\t\\t\\t\\t\\t\\t\\t\\t</div>\\n\\t\\t\\n\\t\\t\\t\\t\\t\\t\\t\\t\\t\\n\\t\\t\\t\\t\\t\\t\\t\\t\\t\\t\\t\\t\\t\\t\\t\\t\\t\\t\\t\\t\\t\\t\\n\\t\\t</div>\\n\\t\\t\\t\\t\\t \\n\\t\\t\\t\\t\\t\\t\\t\\t\\t\\t\\t\\t\\t\\n\\t\\t\\t\\t\\t\\t\\t\\t\\t\\t\\t\\t\\t\\t\\t\\t\\n\\t\\t\\t\\t\\t\\t\\t\\t\\t\\t\\n\\t\\t\\t\\t\\t\\t\\t\\t\\t\\t\\t\\t\\t\\t\\n\\t\\t\\t\\t\\t\\t\\t\\t\\t\\n\\t\\t\\t\\t<div class=\"ubox ubox100 ubox100_width2\" > \\n\\t\\t\\t\\t\\t\\t\\t\\t\\t\\t\\t\\t\\t\\t\\t\\t\\t\\t\\t\\t\\t\\t\\t\\t\\t\\t\\t\\t<div class=\"mbox_bildblock\"> \\n\\t\\t\\t\\t\\t\\t\\t\\t\\t\\t\\t\\t\\t\\t\\t\\t<img title=\"\" src=\"/eit_media/Bilder/Pr%C3%BCfungsamt/Header+_+Pr%C3%BCfungsaussch%C3%BCsse/Header_Pr%C3%BCfungsausschuss+Medizintechnik-height-140-width-480.png\" >\\n\\t\\t\\t\\t\\n\\t\\t\\t\\t\\t\\t\\t\\t\\t\\t\\t\\t\\t\\t\\t\\t\\t\\t\\t\\t\\t\\t\\t\\t\\t\\t\\t\\t\\t\\t\\t\\t\\t\\t\\t<div class=\"mbox_bildblock_layer mbox_bildblock_layer_farbe\">\\n\\t\\t\\t\\t\\t\\t\\t\\t\\t\\t\\t\\t\\t\\t\\t\\t\\t\\t\\t\\t\\t\\t\\t\\t\\t<div class=\"mbox_bildblock_layer_text\">\\n\\t\\t\\t\\t\\t\\t\\t\\t\\t\\tMedical Engineering\\n\\t\\t\\t\\t\\t\\t\\t\\t\\t</div>\\n\\t\\t\\t\\t\\t\\t\\t\\t\\t\\t\\t\\t\\t\\t\\t</div>\\n\\t\\t\\t\\t\\t\\t\\t\\t\\t\\t\\t\\t\\t\\t\\t</div>\\n\\t\\t\\t\\t\\t\\t\\t\\t\\t\\t\\t\\t\\t\\t\\t\\t\\t\\t\\t\\t\\t\\t\\t\\t\\t\\t<div class=\"ubox_linkblock \"  style=\"min-height: autorem\">\\n\\t\\t\\t\\t\\t\\t\\t\\t\\t\\t\\t\\t\\t\\t\\t\\t\\t\\t\\t\\t\\t\\t\\t\\t\\t\\t\\t\\t\\t\\t\\t<div class=\"ubox_kurzinfo\"><p><strong><span style=\"color: #000000;\">Chairman:</span></strong> <br />Prof. Dr. rer. nat. G. Rose | Tel.: 0391-67-58862 | <a class=\"mailto\" onclick=\"sendEmail(\\'Georg.Rose\\', \\'ovgu\\', \\'de\\', \\'\\'); return false;\" onmouseout=\"status=\\'\\'; return true;\" onmouseover=\"setEmailStatus(\\'Georg.Rose\\', \\'ovgu\\', \\'de\\'); return true;\" href=\"javascript:sendEmail(\\'Georg.Rose\\', \\'ovgu\\', \\'de\\', \\'\\')\">E-Mail</a></p>\\r\\n<p><strong><span style=\"color: #000000;\">Vice-Chairman:</span></strong><br />Prof. Dr. rer. nat. C. Hoeschen | Tel.: 0391-67-58863 <a class=\"mailto\" onclick=\"sendEmail(\\'Christoph.Hoeschen\\', \\'ovgu\\', \\'de\\', \\'\\'); return false;\" onmouseout=\"status=\\'\\'; return true;\" onmouseover=\"setEmailStatus(\\'Christoph.Hoeschen\\', \\'ovgu\\', \\'de\\'); return true;\" href=\"javascript:sendEmail(\\'Christoph.Hoeschen\\', \\'ovgu\\', \\'de\\', \\'\\')\">E-Mail</a></p>\\r\\n<p><strong><span style=\"color: #000000;\">Members:</span></strong> <br />Prof. Dr. rer. nat. habil. O. Speck (FNW), Jun.-Prof. C. Hansen (FIN), Dipl.-Inf. P. Kn\\xc3\\xbcppel, Mrs. M.Sc. J. Schreiter, L. Fischer (student)</p> </div>\\n\\t\\t\\t\\t\\t\\t\\t\\t\\t\\t\\t\\t\\t\\t\\t\\t\\t\\t\\n\\t\\t\\t\\t\\t\\t\\t\\t\\t\\t\\t\\t\\t\\t\\t\\t\\t\\t\\t\\t\\t\\n\\t\\t\\t\\t\\t\\t\\t\\t\\t\\t\\t\\t\\t</div>\\n\\t\\t\\n\\t\\t\\t\\t\\t\\t\\t\\t\\t\\n\\t\\t\\t\\t\\t\\t\\t\\t\\t\\t\\t\\t\\t\\t\\t\\t\\t\\t\\t\\t\\t\\t\\n\\t\\t</div>\\n\\t\\t\\t\\t\\t \\n\\t\\t\\t\\t\\t\\t\\t\\t\\t\\t\\t\\t\\t\\n\\t\\t\\t\\t\\t\\t\\t\\t\\t\\t\\t\\t\\t\\t\\t\\t\\n\\t\\t\\t\\t\\t\\t\\t\\t\\t\\t\\n\\t\\t\\t\\t\\t\\t\\t\\t\\t\\t\\t\\t\\t\\t\\n\\t\\t\\t\\t\\t\\t\\t\\t\\t\\n\\t\\t\\t\\t<div class=\"ubox ubox100 ubox100_width2\" > \\n\\t\\t\\t\\t\\t\\t\\t\\t\\t\\t\\t\\t\\t\\t\\t\\t\\t\\t\\t\\t\\t\\t\\t\\t\\t\\t\\t\\t<div class=\"mbox_bildblock\"> \\n\\t\\t\\t\\t\\t\\t\\t\\t\\t\\t\\t\\t\\t\\t\\t\\t<img title=\"\" src=\"/eit_media/Bilder/Pr%C3%BCfungsamt/Header+_+Pr%C3%BCfungsaussch%C3%BCsse/Header_Pr%C3%BCfungsausschuss+Nachhaltige+Energiesysteme-height-140-width-480.png\" >\\n\\t\\t\\t\\t\\n\\t\\t\\t\\t\\t\\t\\t\\t\\t\\t\\t\\t\\t\\t\\t\\t\\t\\t\\t\\t\\t\\t\\t\\t\\t\\t\\t\\t\\t\\t\\t\\t\\t\\t\\t<div class=\"mbox_bildblock_layer mbox_bildblock_layer_farbe\">\\n\\t\\t\\t\\t\\t\\t\\t\\t\\t\\t\\t\\t\\t\\t\\t\\t\\t\\t\\t\\t\\t\\t\\t\\t\\t<div class=\"mbox_bildblock_layer_text\">\\n\\t\\t\\t\\t\\t\\t\\t\\t\\t\\tSustainable Energy Systems\\n\\t\\t\\t\\t\\t\\t\\t\\t\\t</div>\\n\\t\\t\\t\\t\\t\\t\\t\\t\\t\\t\\t\\t\\t\\t\\t</div>\\n\\t\\t\\t\\t\\t\\t\\t\\t\\t\\t\\t\\t\\t\\t\\t</div>\\n\\t\\t\\t\\t\\t\\t\\t\\t\\t\\t\\t\\t\\t\\t\\t\\t\\t\\t\\t\\t\\t\\t\\t\\t\\t\\t<div class=\"ubox_linkblock \"  style=\"min-height: autorem\">\\n\\t\\t\\t\\t\\t\\t\\t\\t\\t\\t\\t\\t\\t\\t\\t\\t\\t\\t\\t\\t\\t\\t\\t\\t\\t\\t\\t\\t\\t\\t\\t<div class=\"ubox_kurzinfo\"><p><strong><span style=\"color: #000000;\">Chairman:</span></strong><em>&nbsp;<br /></em>Prof. N.N. (FVST)&nbsp;</p>\\r\\n<p><strong><span style=\"color: #000000;\">Vice-Chairman:</span></strong> <br />Prof. Dr.-Ing. R. Leidhold | Tel.: 0391-67-58595 | <a class=\"mailto\" onclick=\"sendEmail(\\'roberto.leidhold\\', \\'ovgu\\', \\'de\\', \\'\\'); return false;\" onmouseout=\"status=\\'\\'; return true;\" onmouseover=\"setEmailStatus(\\'roberto.leidhold\\', \\'ovgu\\', \\'de\\'); return true;\" href=\"javascript:sendEmail(\\'roberto.leidhold\\', \\'ovgu\\', \\'de\\', \\'\\')\">E-Mail</a></p>\\r\\n<p><strong><span style=\"color: #000000;\">Members:</span></strong><br />Prof. Dr.-Ing. habil. M. Wolter, WiMi N.N. (FVST), Stud. N.N. (FVST)<strong></strong></p> </div>\\n\\t\\t\\t\\t\\t\\t\\t\\t\\t\\t\\t\\t\\t\\t\\t\\t\\t\\t\\n\\t\\t\\t\\t\\t\\t\\t\\t\\t\\t\\t\\t\\t\\t\\t\\t\\t\\t\\t\\t\\t\\n\\t\\t\\t\\t\\t\\t\\t\\t\\t\\t\\t\\t\\t</div>\\n\\t\\t\\n\\t\\t\\t\\t\\t\\t\\t\\t\\t\\n\\t\\t\\t\\t\\t\\t\\t\\t\\t\\t\\t\\t\\t\\t\\t\\t\\t\\t\\t\\t\\t\\t\\n\\t\\t</div>\\n\\t\\t\\t\\t\\t \\n\\t\\t\\t\\t\\t\\t\\t\\t\\t\\t\\t\\t\\t\\n\\t\\t\\t\\t\\t\\t\\t\\t\\t\\t\\t\\t\\t\\t\\t\\t\\n\\t\\t\\t\\t\\t\\t\\t\\t\\t\\t\\n\\t\\t\\t\\t\\t\\t\\t\\t\\t\\t\\t\\t\\t\\t\\n\\t\\t\\t\\t\\t\\t\\t\\t\\t\\n\\t\\t\\t\\t<div class=\"ubox ubox100 ubox100_width2\" > \\n\\t\\t\\t\\t\\t\\t\\t\\t\\t\\t\\t\\t\\t\\t\\t\\t\\t\\t\\t\\t\\t\\t\\t\\t\\t\\t\\t\\t<div class=\"mbox_bildblock\"> \\n\\t\\t\\t\\t\\t\\t\\t\\t\\t\\t\\t\\t\\t\\t\\t\\t<img title=\"\" src=\"/eit_media/Bilder/Pr%C3%BCfungsamt/Header+_+Pr%C3%BCfungsaussch%C3%BCsse/Header_Pr%C3%BCfungsausschuss+Systemtechnik+und+Technische+Kybernetik-height-140-width-480.png\" >\\n\\t\\t\\t\\t\\n\\t\\t\\t\\t\\t\\t\\t\\t\\t\\t\\t\\t\\t\\t\\t\\t\\t\\t\\t\\t\\t\\t\\t\\t\\t\\t\\t\\t\\t\\t\\t\\t\\t\\t\\t<div class=\"mbox_bildblock_layer mbox_bildblock_layer_farbe\">\\n\\t\\t\\t\\t\\t\\t\\t\\t\\t\\t\\t\\t\\t\\t\\t\\t\\t\\t\\t\\t\\t\\t\\t\\t\\t<div class=\"mbox_bildblock_layer_text\">\\n\\t\\t\\t\\t\\t\\t\\t\\t\\t\\tSystem Engineering and Technical Cybernetis\\n\\t\\t\\t\\t\\t\\t\\t\\t\\t</div>\\n\\t\\t\\t\\t\\t\\t\\t\\t\\t\\t\\t\\t\\t\\t\\t</div>\\n\\t\\t\\t\\t\\t\\t\\t\\t\\t\\t\\t\\t\\t\\t\\t</div>\\n\\t\\t\\t\\t\\t\\t\\t\\t\\t\\t\\t\\t\\t\\t\\t\\t\\t\\t\\t\\t\\t\\t\\t\\t\\t\\t<div class=\"ubox_linkblock \"  style=\"min-height: autorem\">\\n\\t\\t\\t\\t\\t\\t\\t\\t\\t\\t\\t\\t\\t\\t\\t\\t\\t\\t\\t\\t\\t\\t\\t\\t\\t\\t\\t\\t\\t\\t\\t<div class=\"ubox_kurzinfo\"><p><strong><span style=\"color: #000000;\">Chairman:</span></strong> <br />Prof. Dr.-Ing. R. Findeisen | Tel.: 0391-67-58708 | <a class=\"mailto\" onclick=\"sendEmail(\\'rolf.findeisen\\', \\'ovgu\\', \\'de\\', \\'\\'); return false;\" onmouseout=\"status=\\'\\'; return true;\" onmouseover=\"setEmailStatus(\\'rolf.findeisen\\', \\'ovgu\\', \\'de\\'); return true;\" href=\"javascript:sendEmail(\\'rolf.findeisen\\', \\'ovgu\\', \\'de\\', \\'\\')\">E-Mail</a></p>\\r\\n<p><strong><span style=\"color: #000000;\">Vice-Chairman:</span></strong> <br />Prof. Dr.-Ing. habil. A. Kienle | Tel.: 0391-67-58523 | <a class=\"mailto\" onclick=\"sendEmail(\\'achim.kienle\\', \\'ovgu\\', \\'de\\', \\'\\'); return false;\" onmouseout=\"status=\\'\\'; return true;\" onmouseover=\"setEmailStatus(\\'achim.kienle\\', \\'ovgu\\', \\'de\\'); return true;\" href=\"javascript:sendEmail(\\'achim.kienle\\', \\'ovgu\\', \\'de\\', \\'\\')\">E-Mail</a></p>\\r\\n<p><strong><span style=\"color: #000000;\">Members:</span></strong> <br />Prof. Dr.-Ing. K. Sundmacher (FVST), Frau Prof. Dr. rer. nat. F. Scheffler (FVST), M.Sc. J. Matschek, Dr. rer. nat. A. Voigt (FVST), J. Behrens (student)</p> </div>\\n\\t\\t\\t\\t\\t\\t\\t\\t\\t\\t\\t\\t\\t\\t\\t\\t\\t\\t\\n\\t\\t\\t\\t\\t\\t\\t\\t\\t\\t\\t\\t\\t\\t\\t\\t\\t\\t\\t\\t\\t\\n\\t\\t\\t\\t\\t\\t\\t\\t\\t\\t\\t\\t\\t</div>\\n\\t\\t\\n\\t\\t\\t\\t\\t\\t\\t\\t\\t\\n\\t\\t\\t\\t\\t\\t\\t\\t\\t\\t\\t\\t\\t\\t\\t\\t\\t\\t\\t\\t\\t\\t\\n\\t\\t</div>\\n\\t\\t\\t</div>  \\n\\t\\n\\t\\t\\t\\t\\n\\t\\t\\t\\t\\n\\t\\n<div id=\"letzte_aenderung\" style=\"margin-bottom: 0.5rem;\">\\n\\t<p>\\n\\t\\tLast Modification: \\t\\t07.10.2020\\n\\t - Contact Person: \\n\\t\\t<a class=\"mailto\" href=\"/eit/en/home/Ansprechpartner+%28Kontaktformular%29-referenz_id-64.html\" \\n\\t\\t\\ttitle=\"Ansprechpartner kontaktieren\" alt=\"Ansprechpartner kontaktieren\">Dipl.-Kffr. Birgit Magdowski</a><br>\\n\\t</p>\\n</div>\\t\\n\\t<footer id=\"footer\">\\n\\t\\t\\t\\t\\t\\t\\n<a name=\"seitenende\"></a>\\n\\n<div id=\"footer1\">\\n\\t<div id=\"footer_social\" > \\n\\t\\t\\t\\t\\t\\t\\t\\t\\t<h4>SOCIAL MEDIA</h4>\\n\\t\\t\\t\\t\\t\\t\\t\\t\\t\\t<div class=\"icon_social icon_ icon_facebook\">\\n\\t\\t\\t\\t<a href=\"https://de-de.facebook.com/OvGU.Magdeburg/\"\\t\\ttitle=\"Facebook\"\\talt=\"Facebook-Link\"\\t\\ttarget=\"_blank\">Facebook</a> \\n\\t\\t\\t</div> \\n\\t\\t\\t\\t\\t\\t\\t<div class=\"icon_social icon_ icon_twitter\">\\n\\t\\t\\t\\t<a href=\"https://twitter.com/ovgupresse?lang=de\"\\t\\ttitle=\"Twitter\"\\t\\talt=\"Twitter-Link\"\\t\\ttarget=\"_blank\">Twitter</a>\\n\\t\\t\\t</div>\\n\\t\\t\\t\\t\\t\\t\\t<div class=\"icon_social icon_ icon_xing\">\\n\\t\\t\\t\\t<a href=\"https://www.xing.com/communities/groups/otto-von-guericke-universitaet-magdeburg-1069107\"\\t\\t\\ttitle=\"Xing\"\\t\\talt=\"Xing-Link\"\\t\\t\\ttarget=\"_blank\">Xing</a>\\n\\t\\t\\t</div>\\n\\t\\t\\t\\t\\t\\t\\t<div class=\"icon_social icon_ icon_youtube\">\\n\\t\\t\\t\\t<a href=\"https://www.youtube.com/channel/UCX7seJ01ntgujN3NilAUkUw\"\\t\\ttitle=\"YouTube\"\\t\\talt=\"YouTube-Link\"\\t\\ttarget=\"_blank\">YouTube</a>\\n\\t\\t\\t</div>\\n\\t\\t\\t\\t\\t\\t\\t\\t\\t\\t\\t<div class=\"icon_social icon_ icon_uniradio\">\\n\\t\\t\\t\\t<a href=\"http://www.guericke.fm\"\\t\\t\\ttitle=\"Uniradio Guericke FM\"\\talt=\"Link Uniradio Guericke FM\"\\ttarget=\"_blank\">Guericke FM</a>\\n\\t\\t\\t</div>\\n\\t\\t\\t\\t\\t\\t\\t\\t\\t\\t\\t</div>\\n\\t<div id=\"footer_kontakt\">\\n\\t\\t<h4>CONTACT</h4>\\n\\t\\t\\t\\t\\t<p>\\n\\t\\t\\t\\tOtto-von-Guericke University Magdeburg<br>\\t\\t\\t\\tFaculty of Electro Engineering and Information Technology<br>\\t\\t\\t\\tUniversit\\xc3\\xa4tsplatz 2<br>\\t\\t\\t\\t<b>39106 Magdeburg</b>\\t\\t\\t</p>\\n\\t\\t\\t<p>\\n\\t\\t\\t\\tTel.: <a class=\"f1_tel\" href=\"tel:+49 (0) 391 - 67 - 58641\" title=\"Anklicken zum W\\xc3\\xa4hlen\">+49 (0) 391 - 67 - 58641</a><br>\\t\\t\\t\\tFax:  <a class=\"f1_tel\" href=\"tel:+49 (0) 391 - 67 - 12287\" title=\"Anklicken zum W\\xc3\\xa4hlen\">+49 (0) 391 - 67 - 12287</a><br>\\t\\t\\t\\t\\t\\t\\t\\t\\t\\t\\t</p>\\n\\t\\t\\t\\t<p>\\n\\t\\t\\t <a href=\"/eit/en/home/Imprint.html\" title=\"Impressum\">Imprint</a><br> \\t\\t\\t\\t\\t</p>\\n\\t</div>\\n\\t<div id=\"footer_campus_plan\">\\n\\t\\t\\t\\t\\t<h4>Campus</h4>\\n\\t\\t\\t\\t\\t\\t\\t<div>\\n\\t\\t\\t\\t<a href=\"https://mycampusmap.de/ovgu/Hauptcampus/overview#g09\" title=\"\" class=\"bild_link\">\\n\\t\\t\\t\\t\\t<img id=\"footer_campus_plan_img\" src=\"/eit_media/Layout/map2-height-491-width-828.png\" title=\"Campus\">   \\n\\t\\t\\t\\t</a>\\n\\t\\t\\t</div>\\n\\t\\t\\t\\t\\t\\t\\t<p><small><a href=\"https://mycampusmap.de/ovgu/Hauptcampus/overview#g09\" title=\"\">Show bigger map</a></small></p>\\n\\t\\t\\t\\t\\t\\t</div>\\n\\t<div id=\"footer_campus_links\">\\n\\t\\t<p>\\n\\t\\t\\t\\t\\t\\t\\t<a href=\"https://mycampusmap.de/ovgu/Hauptcampus/overview#g09\" title=\"\">mycampusmap</a><br>\\n\\t\\t\\t\\t\\t\\t\\t\\t\\t\\t<a href=\"http://www.ovgu.de/Universit%C3%A4t/Im+Portrait/Adresse+_+Anreise-p-9471.html\" title=\"\">you can reach us by</a><br>\\n\\t\\t\\t\\t\\t\\t\\t\\t\\t\\t\\t\\t\\t\\t</p>\\n\\t</div>\\n</div>\\n\\n<div id=\"footer2\">\\n   <div id=\"footer_linkblock1\">\\n      <h5>Student Council</h5>\\n\\n      <p> \\n                                                                  <a href=\"http://www.farafeit.ovgu.de/\" target=\"_blank\" title=\"\">Website</a><br>\\n                              \\n         \\n                                                                  <a href=\"https://de-de.facebook.com/FaRaFEIT\" target=\"_blank\" title=\"\">Facebook</a><br>\\n                              \\n         \\n         \\n         \\n               </p>\\n   </div>\\n\\n   <div id=\"footer_linkblock2\">\\n      <h5>Equality</h5>\\n\\n      <p> \\n                                                                  <a href=\"/Fakult%C3%A4t/Fakult%C3%A4tsbeauftragte/Gleichstellungsbeauftragte.html\" target=\"_top\" title=\"\">Equal Oppportunities Representative of the FEIT</a><br>\\n                              \\n         \\n                                                                  <a href=\"http://www.bfg.ovgu.de/en/\" target=\"_top\" title=\"\">office for equal opportunities of the OvGU</a><br>\\n                              \\n         \\n         \\n         \\n               </p>\\n   </div>\\n\\n   <div id=\"footer_linkblock3\">\\n      <h5>Service</h5>\\n      <p> \\n                                                                  <a href=\"https://www.urz.ovgu.de/\" target=\"_blank\" title=\"\">University Computer Center</a><br>\\n                              \\n         \\n                                                                  <a href=\"http://www.servicecenter.ovgu.de/csc/en/\" target=\"_blank\" title=\"\">Campus Service Center</a><br>\\n                              \\n         \\n                                                                  <a href=\"https://www.studentenwerk-magdeburg.de/en/\" target=\"_top\" title=\"\">Studentenwerk</a><br>\\n                              \\n         \\n         \\n               </p>\\n   </div>\\n\\n\\t<div id=\"footer_funktionen\">\\n\\t\\t<h5>THIS PAGE</h5>\\n\\t\\t<p>\\n\\t\\t\\t\\t\\t\\t\\t\\t\\t\\t\\t\\t\\t\\t\\t\\t\\t\\t\\t\\t\\t\\t\\t<a href=\"//app-eu.readspeaker.com/cgi-bin/rsent?customerid=4717&amp;amp;amp;lang=en_us&amp;amp;amp;readid=main&amp;amp;amp;url=\" \\n\\t\\t\\t\\t\\t\\t\\trel=\"nofollow\" \\n\\t\\t\\t\\t\\t\\t\\ttitle=\"Click to read aloud\" \\n\\t\\t\\t\\t\\t\\t\\tonclick=\"readpage(this.href, \\'readspeaker_player\\'); return false;\">\\n\\t\\t\\t\\t\\t\\t\\tRead aloud\\t\\t\\t\\t\\t\\t</a>\\n\\t\\t\\t\\t\\t\\t\\t\\t\\t\\t<br>\\n\\t\\t\\t\\t\\t\\t\\t\\t\\t\\t\\t\\t\\t\\t<!--<a href=\"\" target=\"_blank\" title=\"Diese Seite drucken\">Print</a><br>-->\\n\\t\\t\\t\\t<a href=\"#\" onclick=\"window.print(); return false;\" target=\"_blank\" title=\"Seite Drucken\" class=\"line_delete\">Print</a>\\n\\t\\t\\t\\t<a href=\"/eit/en/Examination+Office/Examination+Committees-p-64.print?no301=1\" rel=\"nofollow\" class=\"bild_link\" target=\"_blank\" title=\"Diese Seite ausdrucken.\" rel=\"nofollow\">\\n\\t\\t\\t\\t\\t<img src=\"/bin/type/skin/base/print.gif\" border=\"0\" title=\"Diese Seite ausdrucken\" alt=\"Diese Seite ausdrucken\" />\\n\\t\\t\\t\\t</a>\\n\\t\\t\\t\\t<br>\\n\\t\\t\\t\\t\\t\\t\\t\\t</p>\\n\\t\\t\\t\\t\\t<div class=\"permalink_block\" >\\n\\t\\t\\t\\t<p><a href=\"#permalink_anzeigen\" title=\"Permalink der Seite anzeigen\">Permalink</a></p>\\n\\t\\t\\t\\t<div id=\"permalink_anzeigen\" class=\"permalink_overlay\">\\n\\t\\t\\t\\t\\t<div class=\"permalink_popup\">\\n\\t\\t\\t\\t\\t\\t<a class=\"permalink_close\" href=\"#\">\\xc3\\x97</a>\\n\\t\\t\\t\\t\\t\\t<div class=\"permalink_content\">\\n\\t\\t\\t\\t\\t\\t\\tPermalink dieser Seite: <br>\\n\\t\\t\\t\\t\\t\\t\\t\\t<a href=\"/en/-p-64.html\" rel=\"nofollow\">/en/-p-64.html</a>\\n\\t\\t\\t\\t\\t\\t</div>\\n\\t\\t\\t\\t\\t</div>\\n\\t\\t\\t\\t</div>\\t\\t\\t\\n\\t\\t\\t</div>\\n\\t\\t\\t\\t\\t\\t<!--<a href=\"\" target=\"_top\" title=\"Barrierefrei\">Kontrastreiche Darstellung</a><br>-->\\n\\t\\t<!--<a href=\"\" target=\"_blank\" title=\"Diese Seite vorlesen.\">Read aloud</a><br>-->\\n\\t\\t<!--<a href=\"\" target=\"_blank\" title=\"Permalink dieser Seite.\">Permalink anzeigen</a><br>-->\\n\\t</div>\\n\\n</div>\\t\\t\\t\\t<div id=\"datenschutzerklaerung\">\\n\\t\\t\\t \\n\\t\\t\\t \\n\\t\\t\\t\\t<a href=\"https://www.ovgu.de/en/privacy+policy\" title=\"Privacy Policy pursuant to the GDPR\">\\n\\t\\t\\t\\t\\tPrivacy Policy pursuant to the GDPR\\n\\t\\t\\t\\t</a>\\n\\t\\t\\t \\n\\t\\t</div>\\n\\t</footer>\\n\\t<a name=\"seitenende\"></a> \\n\\n\\t\\n\\t\\n\\t</body> \\n</html>'\n"
          ],
          "name": "stdout"
        }
      ]
    },
    {
      "cell_type": "code",
      "metadata": {
        "id": "8bW6jZRnIEsR"
      },
      "source": [
        "# print(soup_committe.prettify())"
      ],
      "execution_count": null,
      "outputs": []
    },
    {
      "cell_type": "code",
      "metadata": {
        "colab": {
          "base_uri": "https://localhost:8080/"
        },
        "id": "7t46PWltItvc",
        "outputId": "774a90d4-8aa2-4266-d048-55b2981c924f"
      },
      "source": [
        "div_exam_committe_highlight = soup_committe.find(\"div\", {\"id\": \"maincontent\"})\n",
        "#print(div)\n",
        "ex_committe=div_exam_committe_highlight.find_all('h2')\n",
        "print(ex_committe)"
      ],
      "execution_count": null,
      "outputs": [
        {
          "output_type": "stream",
          "text": [
            "[<h2 id=\"page-title\">Examination Committees</h2>]\n"
          ],
          "name": "stdout"
        }
      ]
    },
    {
      "cell_type": "code",
      "metadata": {
        "id": "c7SKyi_QI9zT"
      },
      "source": [
        "exam_committe_key=[]\n",
        "for row in ex_committe:          # Print all occurrences\n",
        "    exam_committe_key.append(row.get_text())"
      ],
      "execution_count": null,
      "outputs": []
    },
    {
      "cell_type": "code",
      "metadata": {
        "colab": {
          "base_uri": "https://localhost:8080/"
        },
        "id": "c1Eoy1C_JNb9",
        "outputId": "62dc9fb1-4fa7-41b6-a70d-39d96947dc71"
      },
      "source": [
        "exam_committe_key"
      ],
      "execution_count": null,
      "outputs": [
        {
          "output_type": "execute_result",
          "data": {
            "text/plain": [
              "['Examination Committees']"
            ]
          },
          "metadata": {
            "tags": []
          },
          "execution_count": 317
        }
      ]
    },
    {
      "cell_type": "code",
      "metadata": {
        "id": "vKmmHnUrJQmj"
      },
      "source": [
        "exam_committe_highlight = re.sub(r'\\s\\s+', ' ', div_exam_committe_highlight.get_text())\n",
        "exam_committe_highlight = exam_committe_highlight.strip(' \\n\\t')"
      ],
      "execution_count": null,
      "outputs": []
    },
    {
      "cell_type": "code",
      "metadata": {
        "id": "P3ki9LOnJbNr"
      },
      "source": [
        "qna_dict[exam_committe_key[0]]=(exam_committe_highlight)"
      ],
      "execution_count": null,
      "outputs": []
    },
    {
      "cell_type": "code",
      "metadata": {
        "id": "l1LrpUl8KD8D"
      },
      "source": [
        "div_committe_abbr =soup_committe.find(\"div\",{\"id:\" \"margin50_12\"})"
      ],
      "execution_count": null,
      "outputs": []
    },
    {
      "cell_type": "code",
      "metadata": {
        "id": "d-s_O2g0KxfX"
      },
      "source": [
        "table_abbr =[]\n",
        "#table = soup_committe.find('table', attrs={'class':'secondary_content_news_box'})\n",
        "table=soup_committe.find('table')\n",
        "#print(table)\n",
        "table_rows = table.find_all('tr')\n",
        "i=0\n",
        "rows=[]\n",
        "for tr in table_rows:\n",
        "    if i!=0:\n",
        "      td = tr.find_all('td')\n",
        "      row = [i.text.strip() for i in td]\n",
        "      rows.append(row)\n",
        "      # print(row)\n",
        "      # table_abbr.append(i for i in td if i)\n",
        "    i+=1\n",
        "\n"
      ],
      "execution_count": null,
      "outputs": []
    },
    {
      "cell_type": "code",
      "metadata": {
        "id": "iw4kv45ioYOO"
      },
      "source": [
        "for p in range(len(rows)):\n",
        "\n",
        "  qna_dict[rows[p][0]]=rows[p][1]"
      ],
      "execution_count": null,
      "outputs": []
    },
    {
      "cell_type": "code",
      "metadata": {
        "id": "fLWjvPiBb-q-"
      },
      "source": [
        "text=[]\n",
        "for row in soup_committe.find_all(\"div\", {\"class\": \"mbox_bildblock_layer_text\"}):\n",
        "    text.append(row.text)\n",
        "#course = soup_committe.find_all(\"div\", {\"class\": \"mbox_bildblock_layer_text\"})\n",
        "\n",
        "# text"
      ],
      "execution_count": null,
      "outputs": []
    },
    {
      "cell_type": "code",
      "metadata": {
        "colab": {
          "base_uri": "https://localhost:8080/"
        },
        "id": "pWpai5J9mq9s",
        "outputId": "0eb89bc0-ef16-43d8-8388-51ffdbdf5420"
      },
      "source": [
        "converted_list = []\n",
        "\n",
        "for element in text:\n",
        "    converted_list.append(element.strip())\n",
        "\n",
        "print(converted_list)\n",
        "len(converted_list)"
      ],
      "execution_count": null,
      "outputs": [
        {
          "output_type": "stream",
          "text": [
            "['ETIT and WETIT (Bachelor - Examination Regulation before the 29 June 2016), Information Technology (Diploma)', 'ETIT and WETIT (Bachelor and Master - Examination Regulation as from 29 June 2016), EERE and EEIT', 'Biosystems Engineering', 'Electromobility (Bachelor)', 'Electromobility (Master)', 'Information Technology - Smart Systems', 'Mathematical Engineering (Bachelor)', 'Mechatronics (Master, SPO before 03 February 2016)', 'Mechatronics (Bachelor and Master, SPO from 03 February 2016)', 'Medical Systems Engineering', 'Medical Engineering', 'Sustainable Energy Systems', 'System Engineering and Technical Cybernetis']\n"
          ],
          "name": "stdout"
        },
        {
          "output_type": "execute_result",
          "data": {
            "text/plain": [
              "13"
            ]
          },
          "metadata": {
            "tags": []
          },
          "execution_count": 324
        }
      ]
    },
    {
      "cell_type": "code",
      "metadata": {
        "id": "RjttyK7A6zKE"
      },
      "source": [
        "def extractemailfromstring(emailstring):\n",
        "  print(emailstring)\n",
        "  emailstring=emailstring.split(\"sendEmail(\",1)[1]\n",
        "  emailstring=emailstring.split(\"onclick\",1)[0]\n",
        "  emailstring=emailstring.replace(\"'\",\"\")\n",
        "  emailstrarr=emailstring.split(\",\")\n",
        "  return emailstrarr[0]+\"@\"+emailstrarr[1]+\".\"+emailstrarr[2]"
      ],
      "execution_count": null,
      "outputs": []
    },
    {
      "cell_type": "code",
      "metadata": {
        "id": "UJXzQplplLPQ"
      },
      "source": [
        "chairperson=[]\n",
        "name=[]\n",
        "namevice=[]\n",
        "members=[]\n",
        "dictcontact={}\n",
        "for row in soup_committe.find_all(\"div\", {\"class\": \"ubox_kurzinfo\"}):\n",
        "    s=0\n",
        "    for element in row.children:\n",
        "        elemstr=(str(element))\n",
        "        \n",
        "        if s==0:\n",
        "          # print(elemstr)\n",
        "          s+=1\n",
        "          i=0\n",
        "          cntct=\"\"\n",
        "          for el in (elemstr.split(\"|\")):\n",
        "          \n",
        "            if i==0:\n",
        "              if el.startswith(\"<p>\"):\n",
        "                name.append((\"Prof.\"+el.split(\"Prof.\")[1]).replace(\"</p>\",\" \"))\n",
        "                naming=(\"Prof.\"+el.split(\"Prof.\")[1]).replace(\"</p>\",\" \")\n",
        "                i+=1\n",
        "            elif i==1:\n",
        "              # number.append(el)\n",
        "              cntct+=el\n",
        "              i+=1\n",
        "            else:\n",
        "              # email.append(el)\n",
        "              cntct+=(el)\n",
        "              i+=1\n",
        "            if (\"<a\") in cntct:\n",
        "              newcntct=cntct.split(\"<a\")\n",
        "              emailcntct=extractemailfromstring(newcntct[1])\n",
        "              dictcontact[naming]=newcntct[0]+emailcntct\n",
        "            else:\n",
        "\n",
        "              dictcontact[naming]=cntct\n",
        "          print(\"........................\")\n",
        "          \n",
        "        # print(s)\n",
        "        elif s==1:\n",
        "          \n",
        "          s+=1\n",
        "        elif s==2:\n",
        "          s+=1\n",
        "          i=0\n",
        "          cntct=\"\"\n",
        "          for el in (elemstr.split(\"|\")):\n",
        "          \n",
        "            if i==0:\n",
        "              if el.startswith(\"<p>\"):\n",
        "                namevice.append((\"Prof.\"+el.split(\"Prof.\")[1]).replace(\"</p>\",\" \"))\n",
        "                naming=(\"Prof.\"+el.split(\"Prof.\")[1]).replace(\"</p>\",\" \")\n",
        "                i+=1\n",
        "            elif i==1:\n",
        "              # number.append(el)\n",
        "              cntct+=el\n",
        "              i+=1\n",
        "            else:\n",
        "              # email.append(el)\n",
        "              cntct+=(el)\n",
        "              i+=1\n",
        "            if (\"<a\") in cntct:\n",
        "              newcntct=cntct.split(\"<a\")\n",
        "              emailcntct=extractemailfromstring(newcntct[1])\n",
        "              dictcontact[naming]=newcntct[0]+emailcntct\n",
        "            else:\n",
        "\n",
        "              dictcontact[naming]=cntct\n",
        "          print(\"........................\")\n",
        "        elif s==3:\n",
        "          s+=1\n",
        "        elif s==4:\n",
        "          s+=1\n",
        "          \n",
        "          members.append((elemstr.split(\"<br/>\")[1]).replace(\"</p>\",\" \").replace(\"</strong>\",\" \").replace(\"<strong>\",\" \"))\n",
        "         \n",
        "      \n",
        "    chairperson.append(row.text)\n",
        "    \n",
        "# print(chairperson)\n",
        "# len(chairperson)"
      ],
      "execution_count": null,
      "outputs": []
    },
    {
      "cell_type": "code",
      "metadata": {
        "colab": {
          "base_uri": "https://localhost:8080/"
        },
        "id": "Ea5qmsUk9i3I",
        "outputId": "d7af0b44-055d-4b99-aa29-0bf5b2f4c048"
      },
      "source": [
        "dictcontact"
      ],
      "execution_count": null,
      "outputs": [
        {
          "output_type": "execute_result",
          "data": {
            "text/plain": [
              "{'Prof. Dr. T. Richter (FMATH) ': '',\n",
              " 'Prof. Dr. V. Kaibel (FMATH) ': '',\n",
              " 'Prof. Dr. rer. nat. A. Wendemuth ': ' Tel.: 0391-67-58448  andreas.wendemuth@ ovgu. de',\n",
              " 'Prof. Dr. rer. nat. C. Hoeschen ': ' Tel.: 0391-67-58863 Christoph.Hoeschen@ ovgu. de',\n",
              " 'Prof. Dr. rer. nat. G. Rose ': ' Tel.: 0391-67-58862  Georg.Rose@ ovgu. de',\n",
              " 'Prof. Dr.-Ing. D. Juhre (FMB) ': '',\n",
              " 'Prof. Dr.-Ing. R. Findeisen ': ' Tel.: 0391-67-58708  rolf.findeisen@ ovgu. de',\n",
              " 'Prof. Dr.-Ing. R. Leidhold ': ' Tel.: 0391-67-58595  roberto.leidhold@ ovgu. de',\n",
              " 'Prof. Dr.-Ing. Udo Reichl (FVST) ': '',\n",
              " 'Prof. Dr.-Ing. Y. Ding (HS MD) ': '',\n",
              " 'Prof. Dr.-Ing. habil. A. Kienle ': ' Tel.: 0391-67-58523  achim.kienle@ ovgu. de',\n",
              " 'Prof. Dr.-Ing. habil. M. Wolter ': ' Tel.: 0391-67-57012  martin.wolter@ ovgu. de',\n",
              " 'Prof. N.N. (FVST)\\xa0 ': ''}"
            ]
          },
          "metadata": {
            "tags": []
          },
          "execution_count": 327
        }
      ]
    },
    {
      "cell_type": "code",
      "metadata": {
        "colab": {
          "base_uri": "https://localhost:8080/"
        },
        "id": "IUDf4Jh5LzwT",
        "outputId": "c16774ed-1d53-4a1b-a8e9-7badb112ea53"
      },
      "source": [
        "len(converted_list)"
      ],
      "execution_count": null,
      "outputs": [
        {
          "output_type": "execute_result",
          "data": {
            "text/plain": [
              "13"
            ]
          },
          "metadata": {
            "tags": []
          },
          "execution_count": 284
        }
      ]
    },
    {
      "cell_type": "code",
      "metadata": {
        "colab": {
          "base_uri": "https://localhost:8080/"
        },
        "id": "aIFRyDVCLRHa",
        "outputId": "a501028f-9a59-4ab8-d8e8-fb8713fd1037"
      },
      "source": [
        "len(members)"
      ],
      "execution_count": null,
      "outputs": [
        {
          "output_type": "execute_result",
          "data": {
            "text/plain": [
              "13"
            ]
          },
          "metadata": {
            "tags": []
          },
          "execution_count": 279
        }
      ]
    },
    {
      "cell_type": "code",
      "metadata": {
        "colab": {
          "base_uri": "https://localhost:8080/"
        },
        "id": "gY_6m1nFLXO3",
        "outputId": "31367e61-551f-4bf8-88cb-d6eea508f41b"
      },
      "source": [
        "len(name)"
      ],
      "execution_count": null,
      "outputs": [
        {
          "output_type": "execute_result",
          "data": {
            "text/plain": [
              "13"
            ]
          },
          "metadata": {
            "tags": []
          },
          "execution_count": 280
        }
      ]
    },
    {
      "cell_type": "code",
      "metadata": {
        "colab": {
          "base_uri": "https://localhost:8080/"
        },
        "id": "hwo_AfiXLaAK",
        "outputId": "05cfa281-6aee-42fb-a6fd-a42f7eba7690"
      },
      "source": [
        "len(namevice)"
      ],
      "execution_count": null,
      "outputs": [
        {
          "output_type": "execute_result",
          "data": {
            "text/plain": [
              "13"
            ]
          },
          "metadata": {
            "tags": []
          },
          "execution_count": 281
        }
      ]
    },
    {
      "cell_type": "code",
      "metadata": {
        "id": "loeCZgtTL6B1"
      },
      "source": [
        "for i in range(len(converted_list)):\n",
        "  qna_dict[converted_list[i]+\" chairman\"]=name[i]\n",
        "  qna_dict[converted_list[i]+\" vice chairman\"]=namevice[i]\n",
        "  qna_dict[converted_list[i]+\" members\"]=members[i]"
      ],
      "execution_count": null,
      "outputs": []
    },
    {
      "cell_type": "code",
      "metadata": {
        "id": "Ng-njTG7NdPP"
      },
      "source": [
        "for k in dictcontact.keys():\n",
        "  qna_dict[\"contact of \"+k]=dictcontact[k]\n",
        "  "
      ],
      "execution_count": null,
      "outputs": []
    },
    {
      "cell_type": "code",
      "metadata": {
        "colab": {
          "base_uri": "https://localhost:8080/"
        },
        "id": "PTV1D-gBNt26",
        "outputId": "1ec5abfd-33ed-4e21-d3d2-4d5d4a19ac11"
      },
      "source": [
        "qna_dict"
      ],
      "execution_count": null,
      "outputs": [
        {
          "output_type": "execute_result",
          "data": {
            "text/plain": [
              "{' Submission of theses': 'The submission of theses is still done by sending them by mail to Otto-von-Guericke-Universität, Prüfungsamt FEIT, Universitätsplatz 2, 39106 Magdeburg (the submission date is the date of the postmark) or by dropping them in the red mailbox in front of building 09, which will be emptied at regular intervals.',\n",
              " 'Biosystems Engineering chairman': 'Prof. Dr.-Ing. Udo Reichl (FVST) ',\n",
              " 'Biosystems Engineering members': 'WiMi N.N. (FVST), N. Mehwald (student FVST) ',\n",
              " 'Biosystems Engineering vice chairman': 'Prof. Dr.-Ing. habil. A. Kienle ',\n",
              " 'Contact': \"Contact contact person\\nSusanne BögelsackBuilding 10 | Room 152Tel.: +49 (0) 391 - 67 - 58642Fax: +49 (0) 391 - 67 - 42219writeEmail('susanne.boegelsack', 'ovgu', 'de', 'emailcaf49d3a61ff29af1da4610c8f38f56e') mailing address\\nOtto-von-Guericke-Universität MagdeburgFEIT - PPAUniversitätsplatz 239106 Magdeburg\",\n",
              " 'EEIT': 'Electrical Engineering and Information Technology(English-language)',\n",
              " 'EERE': 'Electrical Energy Systems - Renewable Energy',\n",
              " 'EMO': 'Electromobility',\n",
              " 'ETIT': 'Electrical Engineering and Information Technology',\n",
              " 'ETIT and WETIT (Bachelor - Examination Regulation before the 29 June 2016), Information Technology (Diploma) chairman': 'Prof. Dr.-Ing. R. Leidhold ',\n",
              " 'ETIT and WETIT (Bachelor - Examination Regulation before the 29 June 2016), Information Technology (Diploma) members': 'Prof. Dr.-Ing. T. Pionteck, Prof. Dr-Ing. C. Diedrich, Dr. sc. techn. ETH E. Bullinger, PD Dr.-Ing. A. Jöstingmeier, K. Bredenfeld\\xa0 (student) ',\n",
              " 'ETIT and WETIT (Bachelor - Examination Regulation before the 29 June 2016), Information Technology (Diploma) vice chairman': 'Prof. Dr.-Ing. habil. M. Wolter ',\n",
              " 'ETIT and WETIT (Bachelor and Master - Examination Regulation as from 29 June 2016), EERE and EEIT chairman': 'Prof. Dr.-Ing. R. Leidhold ',\n",
              " 'ETIT and WETIT (Bachelor and Master - Examination Regulation as from 29 June 2016), EERE and EEIT members': 'Prof. Dr.-Ing. C. Diedrich, Dr. sc. techn. ETH E. Bullinger, Alisa Noll (student) ',\n",
              " 'ETIT and WETIT (Bachelor and Master - Examination Regulation as from 29 June 2016), EERE and EEIT vice chairman': 'Prof. Dr.-Ing. habil. M. Wolter ',\n",
              " 'Electromobility (Bachelor) chairman': 'Prof. Dr.-Ing. R. Leidhold ',\n",
              " 'Electromobility (Bachelor) members': 'Prof. Dr.-Ing. R. Vick, Priv.-Doz. Dr.-Ing. St. Schmidt (FMB), L. Hüsgen (Student) ',\n",
              " 'Electromobility (Bachelor) vice chairman': 'Prof. Dr.-Ing. D. Juhre (FMB) ',\n",
              " 'Electromobility (Master) chairman': 'Prof. Dr.-Ing. D. Juhre (FMB) ',\n",
              " 'Electromobility (Master) members': 'Priv.-Doz. Dr.-Ing. St. Schmidt (FMB), Dr.-Ing. T. Schallschmidt, A. Timpter (Student FMB) ',\n",
              " 'Electromobility (Master) vice chairman': 'Prof. Dr.-Ing. R. Leidhold ',\n",
              " 'Email requests': \"For matriculated students Email communication with the Examination Office requires the use of OvGU Student Email Address (writeEmail('firstname.surname', 'st', 'ovgu.de', 'emailcf86bf52f15584debfad86848cf44b03')) and indication of the matriculation number!!\",\n",
              " 'Exam Inspection': ' ',\n",
              " 'Examination Committees': \"Examination Committees Tasks of an Examination Committee\\nThe Examination Committee's task is to ensure the proper conduct of examinations. On the basis of the study and examination regulations of the respective degree programme, he has the following competences: Recognition of performance records\\nAdmission and Acceptance of interim and final examinations\\nEvaluation of individual examination performances and the examination as a whole\\nDecision on questions of interpretation in the application of the examination regulations Legal foundation\\nThe tasks of the examination committee are regulated in the examination regulations of the respective degree programme.\",\n",
              " 'Examination Schedules': ' Examinations in Wintersemester 2020/21 ---please consider changes/updates--- Examination Schedule Wintersemester 2020/21 (21.03.2021) https://www.eit.ovgu.de//eit_media/Dokumente/Pr%C3%BCfungsamt/Pr%C3%BCfungspl%C3%A4ne/WS+2020+Pr%C3%BCfungsplan_Covid.pdf Online Registration for examinations starts on January, 1st 2021. Deadline for registation is 2 weeks before each examination. Deadline for withdrawal is 1 week before each examination. Non-participation in examinations will automatically be considered as withdrawal from the examination, submission of a medical certificate is not necessary. Also failed examinations will be considered as withdrawal. ',\n",
              " 'Further information is available at\\xa0https://www.ovgu.de/unimagdeburg/en/faqstudents-p-97430.html': 'Stay healthy, take care of yourself and your fellow men! Your FEIT examination office',\n",
              " 'ITSS': 'Information Technology - Smart Systems',\n",
              " 'Important Information': '\\n---\\n',\n",
              " 'Information Technology - Smart Systems chairman': 'Prof. Dr. rer. nat. A. Wendemuth ',\n",
              " 'Information Technology - Smart Systems members': 'Prof. Dr.-Ing. C. Diedrich, Prof. Dr.-Ing. J. Auge (HS MD), Dr.-Ing. G. Krell, ',\n",
              " 'Information Technology - Smart Systems vice chairman': 'Prof. Dr.-Ing. Y. Ding (HS MD) ',\n",
              " 'MSE': 'Medical Systems Engineering (English-language)',\n",
              " 'MT': 'Medical Engineering',\n",
              " 'MTK': 'Mechatronics',\n",
              " 'Mathematical Engineering (Bachelor) chairman': 'Prof. Dr. T. Richter (FMATH) ',\n",
              " 'Mathematical Engineering (Bachelor) members': 'Prof. Dr.-Ing. R. Findeisen, Jun.-Prof. Dr. J. Heiland (FMATH), Prof. Dr.-Ing. D. Juhre (FMB), Dr. rer. nat. A. Voigt (FVST), F. Horn (Student) ',\n",
              " 'Mathematical Engineering (Bachelor) vice chairman': 'Prof. Dr. V. Kaibel (FMATH) ',\n",
              " 'Mechatronics (Bachelor and Master, SPO from 03 February 2016) chairman': 'Prof. Dr.-Ing. R. Leidhold ',\n",
              " 'Mechatronics (Bachelor and Master, SPO from 03 February 2016) members': 'Prof. Dr.-Ing. A. Lindemann, Priv.-Doz. St. Schmidt (FMB), Dr.-Ing. M. Schünemann (FMB), Dr.-Ing. R. Döbbelin, T. Gräber (student) ',\n",
              " 'Mechatronics (Bachelor and Master, SPO from 03 February 2016) vice chairman': 'Prof. Dr.-Ing. D. Juhre (FMB) ',\n",
              " 'Mechatronics (Master, SPO before 03 February 2016) chairman': 'Prof. Dr.-Ing. R. Leidhold ',\n",
              " 'Mechatronics (Master, SPO before 03 February 2016) members': 'Prof. Dr.-Ing. A. Lindemann, Dr.-Ing. M. Schünemann (FMB), T. Gräber (Student) ',\n",
              " 'Mechatronics (Master, SPO before 03 February 2016) vice chairman': 'Prof. Dr.-Ing. D. Juhre (FMB) ',\n",
              " 'Medical Engineering chairman': 'Prof. Dr. rer. nat. G. Rose ',\n",
              " 'Medical Engineering members': 'Prof. Dr. rer. nat. habil. O. Speck (FNW), Jun.-Prof. C. Hansen (FIN), Dipl.-Inf. P. Knüppel, Mrs. M.Sc. J. Schreiter, L. Fischer (student) ',\n",
              " 'Medical Engineering vice chairman': 'Prof. Dr. rer. nat. C. Hoeschen ',\n",
              " 'Medical Systems Engineering chairman': 'Prof. Dr. rer. nat. G. Rose ',\n",
              " 'Medical Systems Engineering members': 'Mrs. Prof. Dr.-Ing. U. Steinmann, Prof. Dr. rer. nat. habil. O. Speck (FNW), Prof. Dr.-Ing. habil. B. Preim (FIN), Mrs. M.Sc. J. Schreiter, A. Noll (student) ',\n",
              " 'Medical Systems Engineering vice chairman': 'Prof. Dr. rer. nat. C. Hoeschen ',\n",
              " 'Office Hour': '\\nPlease contact the Examination Offfice by telephone or Email. Personal appointments are possible for exeptional cases. ',\n",
              " 'STK': 'Systems Engineering and Technical Cybernetics',\n",
              " 'Sustainable Energy Systems chairman': 'Prof. N.N. (FVST)\\xa0 ',\n",
              " 'Sustainable Energy Systems members': 'Prof. Dr.-Ing. habil. M. Wolter, WiMi N.N. (FVST), Stud. N.N. (FVST)   ',\n",
              " 'Sustainable Energy Systems vice chairman': 'Prof. Dr.-Ing. R. Leidhold ',\n",
              " 'System Engineering and Technical Cybernetis chairman': 'Prof. Dr.-Ing. R. Findeisen ',\n",
              " 'System Engineering and Technical Cybernetis members': 'Prof. Dr.-Ing. K. Sundmacher (FVST), Frau Prof. Dr. rer. nat. F. Scheffler (FVST), M.Sc. J. Matschek, Dr. rer. nat. A. Voigt (FVST), J. Behrens (student) ',\n",
              " 'System Engineering and Technical Cybernetis vice chairman': 'Prof. Dr.-Ing. habil. A. Kienle ',\n",
              " 'Vacation Times': '\\n--- ',\n",
              " 'WETIT': 'Industrial Engineering for Electrical Engineering and Information Technology',\n",
              " 'about': 'EIT - Examination Office',\n",
              " 'contact of Prof. Dr. T. Richter (FMATH) ': '',\n",
              " 'contact of Prof. Dr. V. Kaibel (FMATH) ': '',\n",
              " 'contact of Prof. Dr. rer. nat. A. Wendemuth ': ' Tel.: 0391-67-58448  andreas.wendemuth@ ovgu. de',\n",
              " 'contact of Prof. Dr. rer. nat. C. Hoeschen ': ' Tel.: 0391-67-58863 Christoph.Hoeschen@ ovgu. de',\n",
              " 'contact of Prof. Dr. rer. nat. G. Rose ': ' Tel.: 0391-67-58862  Georg.Rose@ ovgu. de',\n",
              " 'contact of Prof. Dr.-Ing. D. Juhre (FMB) ': '',\n",
              " 'contact of Prof. Dr.-Ing. R. Findeisen ': ' Tel.: 0391-67-58708  rolf.findeisen@ ovgu. de',\n",
              " 'contact of Prof. Dr.-Ing. R. Leidhold ': ' Tel.: 0391-67-58595  roberto.leidhold@ ovgu. de',\n",
              " 'contact of Prof. Dr.-Ing. Udo Reichl (FVST) ': '',\n",
              " 'contact of Prof. Dr.-Ing. Y. Ding (HS MD) ': '',\n",
              " 'contact of Prof. Dr.-Ing. habil. A. Kienle ': ' Tel.: 0391-67-58523  achim.kienle@ ovgu. de',\n",
              " 'contact of Prof. Dr.-Ing. habil. M. Wolter ': ' Tel.: 0391-67-57012  martin.wolter@ ovgu. de',\n",
              " 'contact of Prof. N.N. (FVST)\\xa0 ': '',\n",
              " 'department': 'FACULTY OF ELECTRICAL ENGINEERING\\nAND INFORMATION TECHNOLOGY',\n",
              " 'further documents': 'All other documents/forms/applications are also submitted by mail, by dropping them in the mailboxes in front of building 09 or next to FEIT Examination Office or by email.',\n",
              " 'title': 'EIT - Examination Office'}"
            ]
          },
          "metadata": {
            "tags": []
          },
          "execution_count": 330
        }
      ]
    },
    {
      "cell_type": "markdown",
      "metadata": {
        "id": "0nvU3dS4PVuM"
      },
      "source": [
        "###While putting in firebase please replace \\xa0 with \" \""
      ]
    },
    {
      "cell_type": "code",
      "metadata": {
        "id": "Z3WHmcmrPVOd"
      },
      "source": [
        "#firebase code\n"
      ],
      "execution_count": null,
      "outputs": []
    },
    {
      "cell_type": "code",
      "metadata": {
        "id": "Jh700kn12ROc"
      },
      "source": [
        "# chairman=[]\n",
        "# vice_chairman=[]\n",
        "# members=[]\n",
        "\n",
        "# for dept_people in chairperson:\n",
        "#   print(dept_people.split(\"|\"))\n"
      ],
      "execution_count": null,
      "outputs": []
    },
    {
      "cell_type": "markdown",
      "metadata": {
        "id": "_khBp7LRfc1h"
      },
      "source": [
        "mailto section"
      ]
    },
    {
      "cell_type": "code",
      "metadata": {
        "id": "uJtHpODoUcLy"
      },
      "source": [
        "# import re\n",
        "# # from requests_html import HTMLSession\n",
        "# import requests"
      ],
      "execution_count": null,
      "outputs": []
    },
    {
      "cell_type": "code",
      "metadata": {
        "colab": {
          "base_uri": "https://localhost:8080/"
        },
        "id": "Aq8I_RB7ZzB5",
        "outputId": "f1b9d475-6d49-43b4-cb16-fe0e73fb9c81"
      },
      "source": [
        "# Assign urlopen to a file object variable \n",
        "# soup_committe.get_text()\n",
        "# print([a[\"href\"] for a in soup_committe.select(\"a[href^=mailto:]\")]) "
      ],
      "execution_count": null,
      "outputs": [
        {
          "output_type": "stream",
          "text": [
            "[]\n"
          ],
          "name": "stdout"
        }
      ]
    },
    {
      "cell_type": "code",
      "metadata": {
        "colab": {
          "base_uri": "https://localhost:8080/"
        },
        "id": "E9ZX-ivHUrgR",
        "outputId": "43b18654-cae8-45f0-88ff-8c7d4b83cd49"
      },
      "source": [
        "# emailList= []\n",
        "# r=0\n",
        "\n",
        "# #add url of the page you want to scrape to urlString\n",
        "# urlString='https://www.eit.ovgu.de/eit/en/Examination+Office/Examination+Committees-p-64.html'\n",
        "# def decodeEmail(e):   \n",
        "#   de = \"\"\n",
        "#   k = int(e[:2], 16)\n",
        "\n",
        "#   for i in range(2, len(e)-1, 2):\n",
        "#     de += chr(int(e[i:i+2], 16)^k)\n",
        "\n",
        "#   return de\n",
        "\n",
        "# #function that extracts all emails from a page you provided and stores them in a list\n",
        "# def emailExtractor(urlString):\n",
        "#   getH=requests.get(urlString)\n",
        "#   h=getH.content\n",
        "#   soup=BeautifulSoup(h,'html.parser')\n",
        "#   mailtos = soup.select('a[href]')\n",
        "#   for i in mailtos:\n",
        "#     href=i['href']\n",
        "#     if \"email-protect\" in href:\n",
        "#       emailList.append(decodeEmail(href.split(\"#\")[1]))\n",
        "\n",
        "# emailExtractor(urlString)\n",
        "# emailList\n",
        "# # print(mailtos)"
      ],
      "execution_count": null,
      "outputs": [
        {
          "output_type": "execute_result",
          "data": {
            "text/plain": [
              "[]"
            ]
          },
          "metadata": {
            "tags": []
          },
          "execution_count": 255
        }
      ]
    },
    {
      "cell_type": "code",
      "metadata": {
        "id": "2gTm7vMPwB11"
      },
      "source": [
        "# eit_exam_committe= {}\n",
        "\n",
        "# for i in range(len(converted_list)):\n",
        "#   eit_exam_committe[converted_list[i]]=chairperson[i]\n",
        "\n",
        "# eit_exam_committe"
      ],
      "execution_count": null,
      "outputs": []
    },
    {
      "cell_type": "code",
      "metadata": {
        "id": "94tOJeUBtEs1"
      },
      "source": [
        "# for row in soup_committe.find_all(\"div\", {\"class\": \"ubox_kurzinfo\"}):\n",
        "#   print(row.find('p').text)"
      ],
      "execution_count": null,
      "outputs": []
    },
    {
      "cell_type": "markdown",
      "metadata": {
        "id": "pdY47r7W10d3"
      },
      "source": [
        "#### Examination schedule pdf link"
      ]
    },
    {
      "cell_type": "code",
      "metadata": {
        "id": "zcsG7kLc96vN"
      },
      "source": [
        "# # https://www.eit.ovgu.de/eit/en/Examination+Office/Forms-p-54.html\n",
        "# import urllib.request\n",
        "# from bs4 import BeautifulSoup\n",
        "\n",
        "# response = urllib.request.urlopen('https://www.eit.ovgu.de/eit/en/Examination+Office/Forms-p-54.html')\n",
        "# html_exam_forms = response.read()\n",
        "# soup_forms = BeautifulSoup(html_exam_forms, features=\"html.parser\")\n",
        "\n",
        "# for script in soup_forms([\"script\", \"style\"]):\n",
        "#   script.extract()    # rip it out\n",
        "\n",
        "# # get text\n",
        "# text = soup_forms.get_text()\n",
        "\n",
        "# # break into lines and remove leading and trailing space on each\n",
        "# lines = (line.strip() for line in text.splitlines())\n",
        "# # break multi-headlines into a line each\n",
        "# chunks = (phrase.strip() for line in lines for phrase in line.split(\"  \"))\n",
        "# # drop blank lines\n",
        "# text = '\\n'.join(chunk for chunk in chunks if chunk)"
      ],
      "execution_count": null,
      "outputs": []
    },
    {
      "cell_type": "code",
      "metadata": {
        "id": "Vz35hqIN-q3A"
      },
      "source": [
        "# soup_forms.prettify()"
      ],
      "execution_count": null,
      "outputs": []
    },
    {
      "cell_type": "code",
      "metadata": {
        "colab": {
          "base_uri": "https://localhost:8080/"
        },
        "id": "yO2Scr3-GUni",
        "outputId": "79c9fc99-ef39-4f6c-ade8-a5be0b6fc15e"
      },
      "source": [
        "# from bs4 import BeautifulSoup\n",
        "# from urllib.request import Request, urlopen\n",
        "# import re\n",
        "\n",
        "# req = Request('https://www.eit.ovgu.de/eit/en/Examination+Office/Forms-p-54.html')\n",
        "# html_page = urlopen(req)\n",
        "\n",
        "# soup = BeautifulSoup(html_page, \"lxml\")\n",
        "\n",
        "# links = []\n",
        "# for link in soup.findAll('a'):\n",
        "#     links.append(link.get('href'))\n",
        "\n",
        "# print(links)"
      ],
      "execution_count": null,
      "outputs": [
        {
          "output_type": "stream",
          "text": [
            "['http://www.ovgu.de', '/eit/en/', '/eit/en/home/Sitemap.html', '/eit/en/home/Imprint.html', '/eit/en/home/Contact.html', '//app-eu.readspeaker.com/cgi-bin/rsent?customerid=4717&amp;amp;amp;amp;amp;amp;amp;lang=en_us&amp;amp;amp;amp;amp;amp;amp;readid=main&amp;amp;amp;amp;amp;amp;amp;url=https%3A%2F%2Fwww.eit.ovgu.de%2Feit%2Fen%2FExamination%2BOffice%2FForms.html', '/Pr%C3%BCfungsamt/Formulare.html', '/eit/en/Examination+Office/Forms-p-54.html', '/en/Faculty.html', '/en/Institutes.html', '/en/Studium.html', '/en/Research.html', '/en/Examination+Office.html', '/en/Faculty.html', '/en/Institutes.html', '/en/Studium.html', '/en/Research.html', '/en/Examination+Office.html', '/en/Faculty.html', '/en/Institutes.html', '/en/Studium.html', '/en/Research.html', '/en/Examination+Office.html', '/eit/en/', '/eit/en/Examination+Office.html', '/eit/en/Examination+Office/Forms-p-54.html', '/eit_media/Dokumente/Pr%C3%BCfungsamt/Formulare/Antrag+auf+Verl%C3%A4ngerung+der+Bachelorarbeit.pdf', '/eit_media/Dokumente/Pr%C3%BCfungsamt/Formulare/Antrag+auf+Verl%C3%A4ngerung+der+Masterarbeit.pdf', '/eit_media/Dokumente/Pr%C3%BCfungsamt/Formulare/Task+Description.docx', '/eit_media/Dokumente/Pr%C3%BCfungsamt/Formulare/Pr%C3%BCfungsanmeldung+m%C3%BCndliche+und+nicht+online+anmeldbare+Pr%C3%BCfungen.pdf', '/eit_media/Dokumente/Pr%C3%BCfungsamt/Formulare/Registration+for+Examination.pdf', '/eit_media/Dokumente/Pr%C3%BCfungsamt/Formulare/Pr%C3%BCfungsanmeldung+WPM+FWW.pdf', '/eit_media/Studiendokumente/MSE+Master/MSE_M+Research+Track+Proposal+%28Stand+13_01_2020%29-p-6432.pdf', '/eit_media/Dokumente/Pr%C3%BCfungsamt/Formulare/%C3%84rztliches+Attest.pdf', '/eit_media/Dokumente/Pr%C3%BCfungsamt/Formulare/Praktikumsnachweis+Bachelor.doc', '/eit_media/Downloads/Antrag+auf+Anerkennung+von+Pr%C3%BCfungsleistungen.doc', 'http://www.ovgu.de/unimagdeburg_media/Antrag_Berufsbezeichnung_IngenieurIn.pdf', 'http://www.formularpool.ovgu.de/', '/eit/en/home/Ansprechpartner+%28Kontaktformular%29-referenz_id-54.html', None, 'https://de-de.facebook.com/OvGU.Magdeburg/', 'https://twitter.com/ovgupresse?lang=de', 'https://www.xing.com/communities/groups/otto-von-guericke-universitaet-magdeburg-1069107', 'https://www.youtube.com/channel/UCX7seJ01ntgujN3NilAUkUw', 'http://www.guericke.fm', 'tel:+49 (0) 391 - 67 - 58641', 'tel:+49 (0) 391 - 67 - 12287', '/eit/en/home/Imprint.html', 'https://mycampusmap.de/ovgu/Hauptcampus/overview#g09', 'https://mycampusmap.de/ovgu/Hauptcampus/overview#g09', 'https://mycampusmap.de/ovgu/Hauptcampus/overview#g09', 'http://www.ovgu.de/Universit%C3%A4t/Im+Portrait/Adresse+_+Anreise-p-9471.html', 'http://www.farafeit.ovgu.de/', 'https://de-de.facebook.com/FaRaFEIT', '/Fakult%C3%A4t/Fakult%C3%A4tsbeauftragte/Gleichstellungsbeauftragte.html', 'http://www.bfg.ovgu.de/en/', 'https://www.urz.ovgu.de/', 'http://www.servicecenter.ovgu.de/csc/en/', 'https://www.studentenwerk-magdeburg.de/en/', '//app-eu.readspeaker.com/cgi-bin/rsent?customerid=4717&amp;amp;lang=en_us&amp;amp;readid=main&amp;amp;url=', '#', '/eit/en/Examination+Office/Forms-p-54.print?no301=1', '#permalink_anzeigen', '#', '/en/-p-54.html', 'https://www.ovgu.de/en/privacy+policy', None]\n"
          ],
          "name": "stdout"
        }
      ]
    },
    {
      "cell_type": "code",
      "metadata": {
        "id": "j4CPwjjrKBKR"
      },
      "source": [
        "\n",
        "# links = []\n",
        "# for link in soup.find_all('a',{\"class\" :'kein_linkzeichen'}):\n",
        "#   links.append(link.get('href'))\n",
        "  "
      ],
      "execution_count": null,
      "outputs": []
    },
    {
      "cell_type": "code",
      "metadata": {
        "colab": {
          "base_uri": "https://localhost:8080/"
        },
        "id": "cgunba02Uihw",
        "outputId": "9b0cad4f-c246-41ce-ff7e-6bb5250e547b"
      },
      "source": [
        "# print(links)\n",
        "\n"
      ],
      "execution_count": null,
      "outputs": [
        {
          "output_type": "stream",
          "text": [
            "['/eit_media/Dokumente/Pr%C3%BCfungsamt/Formulare/Antrag+auf+Verl%C3%A4ngerung+der+Bachelorarbeit.pdf', '/eit_media/Dokumente/Pr%C3%BCfungsamt/Formulare/Antrag+auf+Verl%C3%A4ngerung+der+Masterarbeit.pdf', '/eit_media/Dokumente/Pr%C3%BCfungsamt/Formulare/Task+Description.docx', '/eit_media/Dokumente/Pr%C3%BCfungsamt/Formulare/Pr%C3%BCfungsanmeldung+m%C3%BCndliche+und+nicht+online+anmeldbare+Pr%C3%BCfungen.pdf', '/eit_media/Dokumente/Pr%C3%BCfungsamt/Formulare/Registration+for+Examination.pdf', '/eit_media/Dokumente/Pr%C3%BCfungsamt/Formulare/Pr%C3%BCfungsanmeldung+WPM+FWW.pdf', '/eit_media/Studiendokumente/MSE+Master/MSE_M+Research+Track+Proposal+%28Stand+13_01_2020%29-p-6432.pdf', '/eit_media/Dokumente/Pr%C3%BCfungsamt/Formulare/%C3%84rztliches+Attest.pdf', '/eit_media/Dokumente/Pr%C3%BCfungsamt/Formulare/Praktikumsnachweis+Bachelor.doc', '/eit_media/Downloads/Antrag+auf+Anerkennung+von+Pr%C3%BCfungsleistungen.doc', 'http://www.ovgu.de/unimagdeburg_media/Antrag_Berufsbezeichnung_IngenieurIn.pdf', 'http://www.formularpool.ovgu.de/']\n"
          ],
          "name": "stdout"
        }
      ]
    },
    {
      "cell_type": "code",
      "metadata": {
        "colab": {
          "base_uri": "https://localhost:8080/"
        },
        "id": "IkeI-ni9U2-w",
        "outputId": "e8e884fa-2cbd-41e2-a002-1586bd179330"
      },
      "source": [
        "# eit=\"https://www.eit.ovgu.de\"\n",
        "# newlinks=[]\n",
        "# i=0\n",
        "# for link in links[0:10]:\n",
        "#   link=eit + link\n",
        "#   newlinks.append(link)\n",
        "# newlinks.append(links[10])\n",
        "# newlinks.append(links[11])\n",
        "# print(newlinks)\n",
        "# len(newlinks)"
      ],
      "execution_count": null,
      "outputs": [
        {
          "output_type": "stream",
          "text": [
            "['https://www.eit.ovgu.de/eit_media/Dokumente/Pr%C3%BCfungsamt/Formulare/Antrag+auf+Verl%C3%A4ngerung+der+Bachelorarbeit.pdf', 'https://www.eit.ovgu.de/eit_media/Dokumente/Pr%C3%BCfungsamt/Formulare/Antrag+auf+Verl%C3%A4ngerung+der+Masterarbeit.pdf', 'https://www.eit.ovgu.de/eit_media/Dokumente/Pr%C3%BCfungsamt/Formulare/Task+Description.docx', 'https://www.eit.ovgu.de/eit_media/Dokumente/Pr%C3%BCfungsamt/Formulare/Pr%C3%BCfungsanmeldung+m%C3%BCndliche+und+nicht+online+anmeldbare+Pr%C3%BCfungen.pdf', 'https://www.eit.ovgu.de/eit_media/Dokumente/Pr%C3%BCfungsamt/Formulare/Registration+for+Examination.pdf', 'https://www.eit.ovgu.de/eit_media/Dokumente/Pr%C3%BCfungsamt/Formulare/Pr%C3%BCfungsanmeldung+WPM+FWW.pdf', 'https://www.eit.ovgu.de/eit_media/Studiendokumente/MSE+Master/MSE_M+Research+Track+Proposal+%28Stand+13_01_2020%29-p-6432.pdf', 'https://www.eit.ovgu.de/eit_media/Dokumente/Pr%C3%BCfungsamt/Formulare/%C3%84rztliches+Attest.pdf', 'https://www.eit.ovgu.de/eit_media/Dokumente/Pr%C3%BCfungsamt/Formulare/Praktikumsnachweis+Bachelor.doc', 'https://www.eit.ovgu.de/eit_media/Downloads/Antrag+auf+Anerkennung+von+Pr%C3%BCfungsleistungen.doc', 'http://www.ovgu.de/unimagdeburg_media/Antrag_Berufsbezeichnung_IngenieurIn.pdf', 'http://www.formularpool.ovgu.de/']\n"
          ],
          "name": "stdout"
        },
        {
          "output_type": "execute_result",
          "data": {
            "text/plain": [
              "12"
            ]
          },
          "metadata": {
            "tags": []
          },
          "execution_count": 15
        }
      ]
    },
    {
      "cell_type": "code",
      "metadata": {
        "colab": {
          "base_uri": "https://localhost:8080/"
        },
        "id": "jfO4obwSYJNf",
        "outputId": "90221408-686c-4787-8d03-5388e2f03222"
      },
      "source": [
        "# links_title = []\n",
        "# for title in soup.find_all('a',{\"class\" :'kein_linkzeichen'}):\n",
        "#   links_title.append(title.get_text())\n",
        "\n",
        "# print(links_title)\n",
        "# len(links_title)"
      ],
      "execution_count": null,
      "outputs": [
        {
          "output_type": "stream",
          "text": [
            "[\"Application for extension of the Bachelor's Thesis\", \"Application for extension of the Master's Thesis\", 'Task Description Template for M.Sc. Medical Systems Engineering', 'Exam registration oral and not online registration exams', 'Registration for Examination', 'Registration of economics electives courses', 'Research Track Proposal Form (Medical Systems Engineering)', 'Medical Certificate', 'Bachelor degree program', 'Application for recognition of examinations', 'Application professional designation Engineer', 'to forms']\n"
          ],
          "name": "stdout"
        },
        {
          "output_type": "execute_result",
          "data": {
            "text/plain": [
              "12"
            ]
          },
          "metadata": {
            "tags": []
          },
          "execution_count": 16
        }
      ]
    },
    {
      "cell_type": "code",
      "metadata": {
        "colab": {
          "base_uri": "https://localhost:8080/"
        },
        "id": "OLOIYzD9eVOV",
        "outputId": "47c86f42-91b4-40e7-9c56-3bc6557cad7e"
      },
      "source": [
        "# dict_forms ={}\n",
        "# for i in range(len(links_title)):\n",
        "#   dict_forms[links_title[i]]=newlinks[i]\n",
        "\n",
        "# print(dict_forms)\n"
      ],
      "execution_count": null,
      "outputs": [
        {
          "output_type": "stream",
          "text": [
            "{\"Application for extension of the Bachelor's Thesis\": 'https://www.eit.ovgu.de/eit_media/Dokumente/Pr%C3%BCfungsamt/Formulare/Antrag+auf+Verl%C3%A4ngerung+der+Bachelorarbeit.pdf', \"Application for extension of the Master's Thesis\": 'https://www.eit.ovgu.de/eit_media/Dokumente/Pr%C3%BCfungsamt/Formulare/Antrag+auf+Verl%C3%A4ngerung+der+Masterarbeit.pdf', 'Task Description Template for M.Sc. Medical Systems Engineering': 'https://www.eit.ovgu.de/eit_media/Dokumente/Pr%C3%BCfungsamt/Formulare/Task+Description.docx', 'Exam registration oral and not online registration exams': 'https://www.eit.ovgu.de/eit_media/Dokumente/Pr%C3%BCfungsamt/Formulare/Pr%C3%BCfungsanmeldung+m%C3%BCndliche+und+nicht+online+anmeldbare+Pr%C3%BCfungen.pdf', 'Registration for Examination': 'https://www.eit.ovgu.de/eit_media/Dokumente/Pr%C3%BCfungsamt/Formulare/Registration+for+Examination.pdf', 'Registration of economics electives courses': 'https://www.eit.ovgu.de/eit_media/Dokumente/Pr%C3%BCfungsamt/Formulare/Pr%C3%BCfungsanmeldung+WPM+FWW.pdf', 'Research Track Proposal Form (Medical Systems Engineering)': 'https://www.eit.ovgu.de/eit_media/Studiendokumente/MSE+Master/MSE_M+Research+Track+Proposal+%28Stand+13_01_2020%29-p-6432.pdf', 'Medical Certificate': 'https://www.eit.ovgu.de/eit_media/Dokumente/Pr%C3%BCfungsamt/Formulare/%C3%84rztliches+Attest.pdf', 'Bachelor degree program': 'https://www.eit.ovgu.de/eit_media/Dokumente/Pr%C3%BCfungsamt/Formulare/Praktikumsnachweis+Bachelor.doc', 'Application for recognition of examinations': 'https://www.eit.ovgu.de/eit_media/Downloads/Antrag+auf+Anerkennung+von+Pr%C3%BCfungsleistungen.doc', 'Application professional designation Engineer': 'http://www.ovgu.de/unimagdeburg_media/Antrag_Berufsbezeichnung_IngenieurIn.pdf', 'to forms': 'http://www.formularpool.ovgu.de/'}\n"
          ],
          "name": "stdout"
        }
      ]
    }
  ]
}